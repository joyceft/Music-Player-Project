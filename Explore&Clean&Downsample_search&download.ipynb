{
 "cells": [
  {
   "cell_type": "markdown",
   "metadata": {},
   "source": [
    "## Explore, clean search/download data\n",
    "**Notice both search/download data are lack from 2017-03-04 to 2017-03-29**\n",
    "- extract useful variables\n",
    "- clean outliers\n",
    "- check whether the samped_uid is involved in search/download file?\n",
    "- join cleaned file with sampled_play\n",
    "- ..."
   ]
  },
  {
   "cell_type": "markdown",
   "metadata": {},
   "source": [
    "### Import pyspark libs and initialze SparkSession"
   ]
  },
  {
   "cell_type": "code",
   "execution_count": 1,
   "metadata": {},
   "outputs": [],
   "source": [
    "#sparksession is used to create DF, register DF as tables, excute SQL over tables, cache tables\n",
    "from pyspark.sql import SparkSession\n",
    "\n",
    "from pyspark.sql import Row\n",
    "from pyspark.sql import functions\n",
    "\n",
    "from pyspark.sql.functions import *\n",
    "import pyspark.sql.functions as func\n",
    "from pyspark.sql.types import *\n",
    "\n",
    "from operator import add\n",
    "from operator import ge\n",
    "import sys"
   ]
  },
  {
   "cell_type": "code",
   "execution_count": 2,
   "metadata": {},
   "outputs": [],
   "source": [
    "import pandas as pd\n",
    "import numpy as np\n",
    "#import matplotlib.pyplot as plt\n",
    "#import seaborn as sns\n",
    "#%matplotlib inline"
   ]
  },
  {
   "cell_type": "code",
   "execution_count": 3,
   "metadata": {},
   "outputs": [],
   "source": [
    "from pyspark import SparkContext\n",
    "sc = SparkContext.getOrCreate()"
   ]
  },
  {
   "cell_type": "code",
   "execution_count": 4,
   "metadata": {},
   "outputs": [],
   "source": [
    "#Next, create pyspark.sql.SparkSession, which is the main entry point for DataFrame and SQL functionality\n",
    "spark = SparkSession \\\n",
    "    .builder \\\n",
    "    .appName(\"Python Spark SQL\") \\\n",
    "    .config(\"spark.some.config.option\", \"some-value\") \\\n",
    "    .getOrCreate()"
   ]
  },
  {
   "cell_type": "markdown",
   "metadata": {},
   "source": [
    "# Search.log\n",
    "### Load in search_file\n",
    "all_search.log.fn is 953MB, can we use Pandas?\n",
    "- there are search_log with file name as 1_search, 2_search,...\n",
    "- Notice in search.log, there is one variable record the search time, so maybe there is no need to append file_name...but we can still keep as a reference of the accuracy of our data\n",
    "- It seems we don't need url "
   ]
  },
  {
   "cell_type": "code",
   "execution_count": 5,
   "metadata": {},
   "outputs": [],
   "source": [
    "rdd = sc.textFile(\"D:/MusicFile/all_search_1.log.fn\")\n",
    "#this will read .log as rdd"
   ]
  },
  {
   "cell_type": "code",
   "execution_count": 6,
   "metadata": {},
   "outputs": [
    {
     "data": {
      "text/plain": [
       "9794980"
      ]
     },
     "execution_count": 6,
     "metadata": {},
     "output_type": "execute_result"
    }
   ],
   "source": [
    "rdd.count()"
   ]
  },
  {
   "cell_type": "code",
   "execution_count": 17,
   "metadata": {},
   "outputs": [
    {
     "data": {
      "text/plain": [
       "['154436633 \\tip \\t2017-03-01 00:00:24 \\t%e9%83%ad%e5%be%b7%e7%ba%b2 \\t 1_1_search.log',\n",
       " '154407262 \\tar \\t2017-03-01 00:00:53 \\t%E6%AF%AF%E5%AD%90%E8%88%9E \\t 1_1_search.log',\n",
       " '154407854 \\tip \\t2017-03-01 00:00:54 \\t%e7%96%a4%2d%20%28%e7%94%b5%e8%a7%86%e5%89%a7%e3%80%8a%e9%a3%9e%e5%88%80%e5%8f%88%e8%a7%81%e9%a3%9e%e5%88%80%e3%80%8b%e4%b8%bb%e9%a2%98%e6%9b%b2%29 \\t 1_1_search.log',\n",
       " '154407252 \\tar \\t2017-03-01 00:00:55 \\t%E6%88%91%E8%A6%81%E5%88%9B%E4%B8%9A++%E5%94%90%E8%8E%89%E7%BE%A4 \\t 1_1_search.log',\n",
       " '154407327 \\tar \\t2017-03-01 00:00:55 \\t%E4%B8%AB%E5%A4%B4++%E7%8E%8B%E7%AB%A5%E8%AF%AD \\t 1_1_search.log',\n",
       " '154407255 \\tip \\t2017-03-01 00:00:56 \\t%e5%8a%a8%e5%bf%83 \\t 1_1_search.log',\n",
       " '154407261 \\tip \\t2017-03-01 00:00:59 \\t%e8%83%8e%e6%95%99 \\t 1_1_search.log',\n",
       " '154407267 \\tar \\t2017-03-01 00:00:59 \\t%E5%81%B7%E6%83%85++mc%E5%8D%8A%E9%98%B3 \\t 1_1_search.log',\n",
       " '154407546 \\tip \\t2017-03-01 00:01:00 \\t%e8%96%9b%e4%b9%8b%e8%b0%a6 \\t 1_1_search.log',\n",
       " '154407254 \\tar \\t2017-03-01 00:01:02 \\t%E6%9D%A5%E7%94%B5%E9%93%83%E9%9F%B3 \\t 1_1_search.log']"
      ]
     },
     "execution_count": 17,
     "metadata": {},
     "output_type": "execute_result"
    }
   ],
   "source": [
    "rdd.take(10)"
   ]
  },
  {
   "cell_type": "code",
   "execution_count": 6,
   "metadata": {},
   "outputs": [
    {
     "data": {
      "text/plain": [
       "5"
      ]
     },
     "execution_count": 6,
     "metadata": {},
     "output_type": "execute_result"
    }
   ],
   "source": [
    "def parseLine(line):\n",
    "    fields = line.split(\"\\t\")\n",
    "    if len(fields) == 5:\n",
    "        try:\n",
    "            uid = float(fields[0])\n",
    "            device = str(fields[1])\n",
    "            search_time = str(fields[2])\n",
    "            url = str(fields[3])\n",
    "            file_name = str(fields[4])\n",
    "            return Row(uid, device, search_time, url, file_name)\n",
    "        except:\n",
    "            return Row(None)\n",
    "    else:\n",
    "        return Row(None)\n",
    "\n",
    "schema = StructType([StructField('uid', FloatType(), False),\n",
    "                     StructField('device', StringType(), True),\n",
    "                     StructField('search_time', StringType(), False),\n",
    "                     StructField('url', StringType(), True),\n",
    "                     StructField('file_name', StringType(), True)])\n",
    "len(schema)"
   ]
  },
  {
   "cell_type": "code",
   "execution_count": 7,
   "metadata": {},
   "outputs": [],
   "source": [
    "search = rdd.map(parseLine).filter(lambda x: len(x)== len(schema))"
   ]
  },
  {
   "cell_type": "code",
   "execution_count": 8,
   "metadata": {
    "scrolled": true
   },
   "outputs": [
    {
     "data": {
      "text/html": [
       "<div>\n",
       "<style scoped>\n",
       "    .dataframe tbody tr th:only-of-type {\n",
       "        vertical-align: middle;\n",
       "    }\n",
       "\n",
       "    .dataframe tbody tr th {\n",
       "        vertical-align: top;\n",
       "    }\n",
       "\n",
       "    .dataframe thead th {\n",
       "        text-align: right;\n",
       "    }\n",
       "</style>\n",
       "<table border=\"1\" class=\"dataframe\">\n",
       "  <thead>\n",
       "    <tr style=\"text-align: right;\">\n",
       "      <th></th>\n",
       "      <th>uid</th>\n",
       "      <th>device</th>\n",
       "      <th>search_time</th>\n",
       "      <th>url</th>\n",
       "      <th>file_name</th>\n",
       "    </tr>\n",
       "  </thead>\n",
       "  <tbody>\n",
       "    <tr>\n",
       "      <th>0</th>\n",
       "      <td>154436640.0</td>\n",
       "      <td>ip</td>\n",
       "      <td>2017-03-01 00:00:24</td>\n",
       "      <td>%e9%83%ad%e5%be%b7%e7%ba%b2</td>\n",
       "      <td>1_1_search.log</td>\n",
       "    </tr>\n",
       "    <tr>\n",
       "      <th>1</th>\n",
       "      <td>154407264.0</td>\n",
       "      <td>ar</td>\n",
       "      <td>2017-03-01 00:00:53</td>\n",
       "      <td>%E6%AF%AF%E5%AD%90%E8%88%9E</td>\n",
       "      <td>1_1_search.log</td>\n",
       "    </tr>\n",
       "    <tr>\n",
       "      <th>2</th>\n",
       "      <td>154407856.0</td>\n",
       "      <td>ip</td>\n",
       "      <td>2017-03-01 00:00:54</td>\n",
       "      <td>%e7%96%a4%2d%20%28%e7%94%b5%e8%a7%86%e5%89%a7%...</td>\n",
       "      <td>1_1_search.log</td>\n",
       "    </tr>\n",
       "    <tr>\n",
       "      <th>3</th>\n",
       "      <td>154407248.0</td>\n",
       "      <td>ar</td>\n",
       "      <td>2017-03-01 00:00:55</td>\n",
       "      <td>%E6%88%91%E8%A6%81%E5%88%9B%E4%B8%9A++%E5%94%9...</td>\n",
       "      <td>1_1_search.log</td>\n",
       "    </tr>\n",
       "    <tr>\n",
       "      <th>4</th>\n",
       "      <td>154407328.0</td>\n",
       "      <td>ar</td>\n",
       "      <td>2017-03-01 00:00:55</td>\n",
       "      <td>%E4%B8%AB%E5%A4%B4++%E7%8E%8B%E7%AB%A5%E8%AF%AD</td>\n",
       "      <td>1_1_search.log</td>\n",
       "    </tr>\n",
       "    <tr>\n",
       "      <th>5</th>\n",
       "      <td>154407248.0</td>\n",
       "      <td>ip</td>\n",
       "      <td>2017-03-01 00:00:56</td>\n",
       "      <td>%e5%8a%a8%e5%bf%83</td>\n",
       "      <td>1_1_search.log</td>\n",
       "    </tr>\n",
       "    <tr>\n",
       "      <th>6</th>\n",
       "      <td>154407264.0</td>\n",
       "      <td>ip</td>\n",
       "      <td>2017-03-01 00:00:59</td>\n",
       "      <td>%e8%83%8e%e6%95%99</td>\n",
       "      <td>1_1_search.log</td>\n",
       "    </tr>\n",
       "    <tr>\n",
       "      <th>7</th>\n",
       "      <td>154407264.0</td>\n",
       "      <td>ar</td>\n",
       "      <td>2017-03-01 00:00:59</td>\n",
       "      <td>%E5%81%B7%E6%83%85++mc%E5%8D%8A%E9%98%B3</td>\n",
       "      <td>1_1_search.log</td>\n",
       "    </tr>\n",
       "    <tr>\n",
       "      <th>8</th>\n",
       "      <td>154407552.0</td>\n",
       "      <td>ip</td>\n",
       "      <td>2017-03-01 00:01:00</td>\n",
       "      <td>%e8%96%9b%e4%b9%8b%e8%b0%a6</td>\n",
       "      <td>1_1_search.log</td>\n",
       "    </tr>\n",
       "    <tr>\n",
       "      <th>9</th>\n",
       "      <td>154407248.0</td>\n",
       "      <td>ar</td>\n",
       "      <td>2017-03-01 00:01:02</td>\n",
       "      <td>%E6%9D%A5%E7%94%B5%E9%93%83%E9%9F%B3</td>\n",
       "      <td>1_1_search.log</td>\n",
       "    </tr>\n",
       "  </tbody>\n",
       "</table>\n",
       "</div>"
      ],
      "text/plain": [
       "           uid device           search_time  \\\n",
       "0  154436640.0    ip   2017-03-01 00:00:24    \n",
       "1  154407264.0    ar   2017-03-01 00:00:53    \n",
       "2  154407856.0    ip   2017-03-01 00:00:54    \n",
       "3  154407248.0    ar   2017-03-01 00:00:55    \n",
       "4  154407328.0    ar   2017-03-01 00:00:55    \n",
       "5  154407248.0    ip   2017-03-01 00:00:56    \n",
       "6  154407264.0    ip   2017-03-01 00:00:59    \n",
       "7  154407264.0    ar   2017-03-01 00:00:59    \n",
       "8  154407552.0    ip   2017-03-01 00:01:00    \n",
       "9  154407248.0    ar   2017-03-01 00:01:02    \n",
       "\n",
       "                                                 url        file_name  \n",
       "0                       %e9%83%ad%e5%be%b7%e7%ba%b2    1_1_search.log  \n",
       "1                       %E6%AF%AF%E5%AD%90%E8%88%9E    1_1_search.log  \n",
       "2  %e7%96%a4%2d%20%28%e7%94%b5%e8%a7%86%e5%89%a7%...   1_1_search.log  \n",
       "3  %E6%88%91%E8%A6%81%E5%88%9B%E4%B8%9A++%E5%94%9...   1_1_search.log  \n",
       "4   %E4%B8%AB%E5%A4%B4++%E7%8E%8B%E7%AB%A5%E8%AF%AD    1_1_search.log  \n",
       "5                                %e5%8a%a8%e5%bf%83    1_1_search.log  \n",
       "6                                %e8%83%8e%e6%95%99    1_1_search.log  \n",
       "7          %E5%81%B7%E6%83%85++mc%E5%8D%8A%E9%98%B3    1_1_search.log  \n",
       "8                       %e8%96%9b%e4%b9%8b%e8%b0%a6    1_1_search.log  \n",
       "9              %E6%9D%A5%E7%94%B5%E9%93%83%E9%9F%B3    1_1_search.log  "
      ]
     },
     "execution_count": 8,
     "metadata": {},
     "output_type": "execute_result"
    }
   ],
   "source": [
    "search_df = spark.createDataFrame(search, schema).cache()\n",
    "pd.DataFrame(search_df.take(10), columns = search_df.columns)"
   ]
  },
  {
   "cell_type": "markdown",
   "metadata": {},
   "source": [
    "It seems we don't need url for churn prediction, drop it"
   ]
  },
  {
   "cell_type": "code",
   "execution_count": 9,
   "metadata": {},
   "outputs": [
    {
     "data": {
      "text/html": [
       "<div>\n",
       "<style scoped>\n",
       "    .dataframe tbody tr th:only-of-type {\n",
       "        vertical-align: middle;\n",
       "    }\n",
       "\n",
       "    .dataframe tbody tr th {\n",
       "        vertical-align: top;\n",
       "    }\n",
       "\n",
       "    .dataframe thead th {\n",
       "        text-align: right;\n",
       "    }\n",
       "</style>\n",
       "<table border=\"1\" class=\"dataframe\">\n",
       "  <thead>\n",
       "    <tr style=\"text-align: right;\">\n",
       "      <th></th>\n",
       "      <th>uid</th>\n",
       "      <th>device</th>\n",
       "      <th>search_time</th>\n",
       "      <th>file_name</th>\n",
       "    </tr>\n",
       "  </thead>\n",
       "  <tbody>\n",
       "    <tr>\n",
       "      <th>0</th>\n",
       "      <td>154436640.0</td>\n",
       "      <td>ip</td>\n",
       "      <td>2017-03-01 00:00:24</td>\n",
       "      <td>1_1_search.log</td>\n",
       "    </tr>\n",
       "    <tr>\n",
       "      <th>1</th>\n",
       "      <td>154407264.0</td>\n",
       "      <td>ar</td>\n",
       "      <td>2017-03-01 00:00:53</td>\n",
       "      <td>1_1_search.log</td>\n",
       "    </tr>\n",
       "    <tr>\n",
       "      <th>2</th>\n",
       "      <td>154407856.0</td>\n",
       "      <td>ip</td>\n",
       "      <td>2017-03-01 00:00:54</td>\n",
       "      <td>1_1_search.log</td>\n",
       "    </tr>\n",
       "    <tr>\n",
       "      <th>3</th>\n",
       "      <td>154407248.0</td>\n",
       "      <td>ar</td>\n",
       "      <td>2017-03-01 00:00:55</td>\n",
       "      <td>1_1_search.log</td>\n",
       "    </tr>\n",
       "    <tr>\n",
       "      <th>4</th>\n",
       "      <td>154407328.0</td>\n",
       "      <td>ar</td>\n",
       "      <td>2017-03-01 00:00:55</td>\n",
       "      <td>1_1_search.log</td>\n",
       "    </tr>\n",
       "    <tr>\n",
       "      <th>5</th>\n",
       "      <td>154407248.0</td>\n",
       "      <td>ip</td>\n",
       "      <td>2017-03-01 00:00:56</td>\n",
       "      <td>1_1_search.log</td>\n",
       "    </tr>\n",
       "    <tr>\n",
       "      <th>6</th>\n",
       "      <td>154407264.0</td>\n",
       "      <td>ip</td>\n",
       "      <td>2017-03-01 00:00:59</td>\n",
       "      <td>1_1_search.log</td>\n",
       "    </tr>\n",
       "    <tr>\n",
       "      <th>7</th>\n",
       "      <td>154407264.0</td>\n",
       "      <td>ar</td>\n",
       "      <td>2017-03-01 00:00:59</td>\n",
       "      <td>1_1_search.log</td>\n",
       "    </tr>\n",
       "    <tr>\n",
       "      <th>8</th>\n",
       "      <td>154407552.0</td>\n",
       "      <td>ip</td>\n",
       "      <td>2017-03-01 00:01:00</td>\n",
       "      <td>1_1_search.log</td>\n",
       "    </tr>\n",
       "    <tr>\n",
       "      <th>9</th>\n",
       "      <td>154407248.0</td>\n",
       "      <td>ar</td>\n",
       "      <td>2017-03-01 00:01:02</td>\n",
       "      <td>1_1_search.log</td>\n",
       "    </tr>\n",
       "  </tbody>\n",
       "</table>\n",
       "</div>"
      ],
      "text/plain": [
       "           uid device           search_time        file_name\n",
       "0  154436640.0    ip   2017-03-01 00:00:24    1_1_search.log\n",
       "1  154407264.0    ar   2017-03-01 00:00:53    1_1_search.log\n",
       "2  154407856.0    ip   2017-03-01 00:00:54    1_1_search.log\n",
       "3  154407248.0    ar   2017-03-01 00:00:55    1_1_search.log\n",
       "4  154407328.0    ar   2017-03-01 00:00:55    1_1_search.log\n",
       "5  154407248.0    ip   2017-03-01 00:00:56    1_1_search.log\n",
       "6  154407264.0    ip   2017-03-01 00:00:59    1_1_search.log\n",
       "7  154407264.0    ar   2017-03-01 00:00:59    1_1_search.log\n",
       "8  154407552.0    ip   2017-03-01 00:01:00    1_1_search.log\n",
       "9  154407248.0    ar   2017-03-01 00:01:02    1_1_search.log"
      ]
     },
     "execution_count": 9,
     "metadata": {},
     "output_type": "execute_result"
    }
   ],
   "source": [
    "search_df = search_df.drop('url')\n",
    "pd.DataFrame(search_df.take(10), columns = search_df.columns)"
   ]
  },
  {
   "cell_type": "code",
   "execution_count": 10,
   "metadata": {},
   "outputs": [
    {
     "data": {
      "text/html": [
       "<div>\n",
       "<style scoped>\n",
       "    .dataframe tbody tr th:only-of-type {\n",
       "        vertical-align: middle;\n",
       "    }\n",
       "\n",
       "    .dataframe tbody tr th {\n",
       "        vertical-align: top;\n",
       "    }\n",
       "\n",
       "    .dataframe thead th {\n",
       "        text-align: right;\n",
       "    }\n",
       "</style>\n",
       "<table border=\"1\" class=\"dataframe\">\n",
       "  <thead>\n",
       "    <tr style=\"text-align: right;\">\n",
       "      <th></th>\n",
       "      <th>uid</th>\n",
       "      <th>device</th>\n",
       "      <th>file_name</th>\n",
       "      <th>record_date</th>\n",
       "      <th>record_time</th>\n",
       "    </tr>\n",
       "  </thead>\n",
       "  <tbody>\n",
       "    <tr>\n",
       "      <th>0</th>\n",
       "      <td>154436640.0</td>\n",
       "      <td>ip</td>\n",
       "      <td>1_1_search.log</td>\n",
       "      <td>2017-03-01</td>\n",
       "      <td>2017-03-01 00:00:24</td>\n",
       "    </tr>\n",
       "    <tr>\n",
       "      <th>1</th>\n",
       "      <td>154407264.0</td>\n",
       "      <td>ar</td>\n",
       "      <td>1_1_search.log</td>\n",
       "      <td>2017-03-01</td>\n",
       "      <td>2017-03-01 00:00:53</td>\n",
       "    </tr>\n",
       "    <tr>\n",
       "      <th>2</th>\n",
       "      <td>154407856.0</td>\n",
       "      <td>ip</td>\n",
       "      <td>1_1_search.log</td>\n",
       "      <td>2017-03-01</td>\n",
       "      <td>2017-03-01 00:00:54</td>\n",
       "    </tr>\n",
       "    <tr>\n",
       "      <th>3</th>\n",
       "      <td>154407248.0</td>\n",
       "      <td>ar</td>\n",
       "      <td>1_1_search.log</td>\n",
       "      <td>2017-03-01</td>\n",
       "      <td>2017-03-01 00:00:55</td>\n",
       "    </tr>\n",
       "    <tr>\n",
       "      <th>4</th>\n",
       "      <td>154407328.0</td>\n",
       "      <td>ar</td>\n",
       "      <td>1_1_search.log</td>\n",
       "      <td>2017-03-01</td>\n",
       "      <td>2017-03-01 00:00:55</td>\n",
       "    </tr>\n",
       "  </tbody>\n",
       "</table>\n",
       "</div>"
      ],
      "text/plain": [
       "           uid device        file_name record_date         record_time\n",
       "0  154436640.0    ip    1_1_search.log  2017-03-01 2017-03-01 00:00:24\n",
       "1  154407264.0    ar    1_1_search.log  2017-03-01 2017-03-01 00:00:53\n",
       "2  154407856.0    ip    1_1_search.log  2017-03-01 2017-03-01 00:00:54\n",
       "3  154407248.0    ar    1_1_search.log  2017-03-01 2017-03-01 00:00:55\n",
       "4  154407328.0    ar    1_1_search.log  2017-03-01 2017-03-01 00:00:55"
      ]
     },
     "execution_count": 10,
     "metadata": {},
     "output_type": "execute_result"
    }
   ],
   "source": [
    "#change datatype of search_time, split date and time\n",
    "from pyspark.sql.types import DataType\n",
    "\n",
    "#split_date = func.split(search_df['search_time'] \" \")\n",
    "search_df_1 = search_df.withColumn('record_date', search_df['search_time'].cast(DateType())) \\\n",
    "                       .withColumn('record_time', to_timestamp(search_df['search_time'])) \\\n",
    "                       .drop('search_time')\n",
    "pd.DataFrame(search_df_1.take(5), columns = search_df_1.columns)"
   ]
  },
  {
   "cell_type": "code",
   "execution_count": 11,
   "metadata": {},
   "outputs": [
    {
     "data": {
      "text/plain": [
       "StructType(List(StructField(uid,FloatType,false),StructField(device,StringType,true),StructField(file_name,StringType,true),StructField(record_date,DateType,true),StructField(record_time,TimestampType,true)))"
      ]
     },
     "execution_count": 11,
     "metadata": {},
     "output_type": "execute_result"
    }
   ],
   "source": [
    "search_df_1.schema"
   ]
  },
  {
   "cell_type": "code",
   "execution_count": 22,
   "metadata": {},
   "outputs": [
    {
     "data": {
      "text/plain": [
       "128386"
      ]
     },
     "execution_count": 22,
     "metadata": {},
     "output_type": "execute_result"
    }
   ],
   "source": [
    "#check how many unique uid in search.log?\n",
    "search_uid = search_df_1.select('uid').distinct()\n",
    "search_uid.count()"
   ]
  },
  {
   "cell_type": "code",
   "execution_count": 72,
   "metadata": {},
   "outputs": [
    {
     "name": "stdout",
     "output_type": "stream",
     "text": [
      "+-----------+-------+\n",
      "|record_date|  count|\n",
      "+-----------+-------+\n",
      "| 2017-03-30|1227156|\n",
      "| 2017-03-01| 685870|\n",
      "| 2017-03-31| 510746|\n",
      "| 2017-04-01| 351061|\n",
      "| 2017-04-02| 328088|\n",
      "| 2017-04-03| 289248|\n",
      "| 2017-04-04| 274964|\n",
      "| 2017-05-08| 241504|\n",
      "| 2017-04-08| 226179|\n",
      "| 2017-04-05| 220321|\n",
      "| 2017-04-09| 218917|\n",
      "| 2017-03-02| 213449|\n",
      "| 2017-04-06| 204615|\n",
      "| 2017-04-07| 202929|\n",
      "| 2017-04-15| 191644|\n",
      "| 2017-04-16| 188333|\n",
      "| 2017-04-10| 176189|\n",
      "| 2017-04-23| 169175|\n",
      "| 2017-04-13| 167287|\n",
      "| 2017-04-12| 163474|\n",
      "+-----------+-------+\n",
      "only showing top 20 rows\n",
      "\n"
     ]
    }
   ],
   "source": [
    "#top dates with largest search time\n",
    "search_df_1.groupBy('record_date').count().orderBy('count', ascending = False).show(20)"
   ]
  },
  {
   "cell_type": "code",
   "execution_count": 75,
   "metadata": {},
   "outputs": [
    {
     "name": "stdout",
     "output_type": "stream",
     "text": [
      "+------------+------+-----+\n",
      "|         uid|device|count|\n",
      "+------------+------+-----+\n",
      "|1.54416048E8|   ip |    2|\n",
      "| 1.5440984E8|   ar |  189|\n",
      "|1.54410512E8|   ip |    9|\n",
      "|1.54413248E8|   ar |   20|\n",
      "| 1.5441344E8|   ar |   33|\n",
      "| 1.5441728E8|   ar |   53|\n",
      "|1.54417584E8|   ar |   11|\n",
      "| 7.9619968E7|   ar |    3|\n",
      "|1.54420928E8|   ar |   25|\n",
      "| 1.5442848E8|   ip |    7|\n",
      "| 1.5443688E8|   ar |   26|\n",
      "| 5.6224608E7|   ar |    8|\n",
      "|1.54439184E8|   ar |    3|\n",
      "|1.54443808E8|   ar |    5|\n",
      "|1.54444752E8|   ip |    3|\n",
      "|1.54444768E8|   ip |    1|\n",
      "|1.54446736E8|   ar |   43|\n",
      "|1.54447552E8|   ar |  109|\n",
      "|1.54454496E8|   ip |    7|\n",
      "|1.54454704E8|   ip |    3|\n",
      "+------------+------+-----+\n",
      "only showing top 20 rows\n",
      "\n"
     ]
    }
   ],
   "source": [
    "# how different between two device?\n",
    "search_df_1.groupBy('uid','device').count().show()"
   ]
  },
  {
   "cell_type": "code",
   "execution_count": 12,
   "metadata": {},
   "outputs": [],
   "source": [
    "#save cleaned search.log\n",
    "search_df_1.repartition(1).write.csv('D:/MusicFile/cleaned_search', header = True)"
   ]
  },
  {
   "cell_type": "markdown",
   "metadata": {},
   "source": [
    "# Download.log\n",
    "download.log is only 545MB, use pandas to read it.\n",
    "\n",
    "Notice there are some Japanese letters or some encoding method other than 'utf-8', also the datatype of each fields also need to be set by us.\n",
    "\n",
    "Most variables are similar to play.log, only lack of play_time and song_length, still, for churn analysis, we only care about the activity made by user during that period, but not what exact information about song itself. So drop those two columns."
   ]
  },
  {
   "cell_type": "code",
   "execution_count": 51,
   "metadata": {},
   "outputs": [
    {
     "data": {
      "text/html": [
       "<div>\n",
       "<style scoped>\n",
       "    .dataframe tbody tr th:only-of-type {\n",
       "        vertical-align: middle;\n",
       "    }\n",
       "\n",
       "    .dataframe tbody tr th {\n",
       "        vertical-align: top;\n",
       "    }\n",
       "\n",
       "    .dataframe thead th {\n",
       "        text-align: right;\n",
       "    }\n",
       "</style>\n",
       "<table border=\"1\" class=\"dataframe\">\n",
       "  <thead>\n",
       "    <tr style=\"text-align: right;\">\n",
       "      <th></th>\n",
       "      <th>uid</th>\n",
       "      <th>device</th>\n",
       "      <th>song_id</th>\n",
       "      <th>song_name</th>\n",
       "      <th>singer</th>\n",
       "      <th>paid_flag</th>\n",
       "      <th>file_name</th>\n",
       "    </tr>\n",
       "  </thead>\n",
       "  <tbody>\n",
       "    <tr>\n",
       "      <th>0</th>\n",
       "      <td>168019810.0</td>\n",
       "      <td>ar</td>\n",
       "      <td>442554.0</td>\n",
       "      <td>å°é",
       "çª</td>\n",
       "      <td>æä¿æ°&amp;è¡åå¦</td>\n",
       "      <td>0</td>\n",
       "      <td>20170330_1_down.log</td>\n",
       "    </tr>\n",
       "    <tr>\n",
       "      <th>1</th>\n",
       "      <td>168019810.0</td>\n",
       "      <td>ar</td>\n",
       "      <td>6334611.0</td>\n",
       "      <td>ç¤¾ä¼æ</td>\n",
       "      <td>è§å",
       "¨</td>\n",
       "      <td>0</td>\n",
       "      <td>20170330_1_down.log</td>\n",
       "    </tr>\n",
       "    <tr>\n",
       "      <th>2</th>\n",
       "      <td>168019810.0</td>\n",
       "      <td>ar</td>\n",
       "      <td>9867382.0</td>\n",
       "      <td>å°é¶</td>\n",
       "      <td>æ­¦èº</td>\n",
       "      <td>0</td>\n",
       "      <td>20170330_1_down.log</td>\n",
       "    </tr>\n",
       "    <tr>\n",
       "      <th>3</th>\n",
       "      <td>168019810.0</td>\n",
       "      <td>ar</td>\n",
       "      <td>6660691.0</td>\n",
       "      <td>ä¸æ¬¡å°±å¥½-(çµå½±ãå¤æ´ç¹ç¦æ¼ãææ°...</td>\n",
       "      <td>æ¨å®çº¬</td>\n",
       "      <td>0</td>\n",
       "      <td>20170330_1_down.log</td>\n",
       "    </tr>\n",
       "    <tr>\n",
       "      <th>4</th>\n",
       "      <td>168019810.0</td>\n",
       "      <td>ar</td>\n",
       "      <td>157606.0</td>\n",
       "      <td>ä¸è·¯ä¸æä½</td>\n",
       "      <td>å¼ å­¦å</td>\n",
       "      <td>0</td>\n",
       "      <td>20170330_1_down.log</td>\n",
       "    </tr>\n",
       "  </tbody>\n",
       "</table>\n",
       "</div>"
      ],
      "text/plain": [
       "           uid device    song_id  \\\n",
       "0  168019810.0    ar    442554.0   \n",
       "1  168019810.0    ar   6334611.0   \n",
       "2  168019810.0    ar   9867382.0   \n",
       "3  168019810.0    ar   6660691.0   \n",
       "4  168019810.0    ar    157606.0   \n",
       "\n",
       "                                           song_name                singer  \\\n",
       "0                                         å°é\n",
       "çª   æä¿æ°&è¡åå¦    \n",
       "1                                         ç¤¾ä¼æ                è§å\n",
       "¨    \n",
       "2                                            å°é¶                æ­¦èº    \n",
       "3  ä¸æ¬¡å°±å¥½-(çµå½±ãå¤æ´ç¹ç¦æ¼ãææ°...            æ¨å®çº¬    \n",
       "4                                   ä¸è·¯ä¸æä½              å¼ å­¦å    \n",
       "\n",
       "  paid_flag             file_name  \n",
       "0        0    20170330_1_down.log  \n",
       "1        0    20170330_1_down.log  \n",
       "2        0    20170330_1_down.log  \n",
       "3        0    20170330_1_down.log  \n",
       "4        0    20170330_1_down.log  "
      ]
     },
     "execution_count": 51,
     "metadata": {},
     "output_type": "execute_result"
    }
   ],
   "source": [
    "col_names = ['uid', 'device', 'song_id', 'song_name', 'singer', 'paid_falg', 'file_name']\n",
    "download_pd = pd.read_csv(\"D:/MusicFile/all_download_1.log.fn\", header = None, names = col_names, encoding = 'latin-1')\n",
    "download_pd.head()"
   ]
  },
  {
   "cell_type": "markdown",
   "metadata": {},
   "source": [
    "There are multiple languages in song_name and singer, which are not encoded with utf-8, so try other encoding method..although the file size is not that big, but we'd like to use the method clean way to deal with all three log\n",
    "### Cleanning download.log in pyspark"
   ]
  },
  {
   "cell_type": "code",
   "execution_count": 13,
   "metadata": {},
   "outputs": [],
   "source": [
    "rdd_d = sc.textFile(\"D:/MusicFile/all_download_1.log.fn\")\n",
    "#this will read .log as rdd"
   ]
  },
  {
   "cell_type": "code",
   "execution_count": 27,
   "metadata": {},
   "outputs": [
    {
     "data": {
      "text/plain": [
       "7746631"
      ]
     },
     "execution_count": 27,
     "metadata": {},
     "output_type": "execute_result"
    }
   ],
   "source": [
    "rdd_d.count()"
   ]
  },
  {
   "cell_type": "code",
   "execution_count": 10,
   "metadata": {},
   "outputs": [
    {
     "data": {
      "text/plain": [
       "['168019810 \\tar \\t442554 \\t小酒窝 \\t林俊杰&蔡卓妍 \\t0 \\t 20170330_1_down.log',\n",
       " '168019810 \\tar \\t6334611 \\t社会摇 \\t萧全 \\t0 \\t 20170330_1_down.log',\n",
       " '168019810 \\tar \\t9867382 \\t台阶 \\t武艺 \\t0 \\t 20170330_1_down.log',\n",
       " '168019810 \\tar \\t6660691 \\t一次就好-(电影《夏洛特烦恼》暖水曲) \\t杨宗纬 \\t0 \\t 20170330_1_down.log',\n",
       " '168019810 \\tar \\t157606 \\t一路上有你 \\t张学友 \\t0 \\t 20170330_1_down.log',\n",
       " '168019810 \\tar \\t3372481 \\t十年 (OT：明年今日) \\t陈奕迅 \\t0 \\t 20170330_1_down.log',\n",
       " '168019810 \\tar \\t3216525 \\t你不知道的事(Live版) \\t王力宏 \\t0 \\t 20170330_1_down.log',\n",
       " '168019810 \\tar \\t6427523 \\tVictory \\tTwo Steps From Hell \\t0 \\t 20170330_1_down.log',\n",
       " '168019810 \\tar \\t6538686 \\t野子 \\t流浪者 \\t0 \\t 20170330_1_down.log',\n",
       " '168019810 \\tar \\t9327383 \\tなんでもないや-[没什么大不了](Movie Ver.)-(动画电影《你的名字。》片尾曲) \\tRADWIMPS \\t0 \\t 20170330_1_down.log']"
      ]
     },
     "execution_count": 10,
     "metadata": {},
     "output_type": "execute_result"
    }
   ],
   "source": [
    "rdd_d.take(10)"
   ]
  },
  {
   "cell_type": "code",
   "execution_count": 14,
   "metadata": {},
   "outputs": [
    {
     "data": {
      "text/plain": [
       "7"
      ]
     },
     "execution_count": 14,
     "metadata": {},
     "output_type": "execute_result"
    }
   ],
   "source": [
    "def parseLine(line):\n",
    "    fields = line.split(\"\\t\")\n",
    "    if len(fields) == 7:\n",
    "        try:\n",
    "            uid = float(fields[0])\n",
    "            device = str(fields[1])\n",
    "            song_id = float(fields[2])\n",
    "            song_name = str(fields[3])\n",
    "            singer = str(fields[4])\n",
    "            paid_flag = str(fields[5])\n",
    "            file_name = str(fields[6])\n",
    "            return Row(uid, device, song_id, song_name, singer, paid_flag, file_name)\n",
    "        except:\n",
    "            return Row(None)\n",
    "    else:\n",
    "        return Row(None)\n",
    "\n",
    "schema = StructType([StructField('uid', FloatType(), False),\n",
    "                       StructField('device', StringType(), True),\n",
    "                       StructField('song_id', FloatType(), False),\n",
    "                       StructField('song_name', StringType(), True),\n",
    "                       StructField('singer', StringType(), True),\n",
    "                       StructField('paid_flag', StringType(), True),\n",
    "                       StructField('file_name', StringType(), True)])\n",
    "len(schema)"
   ]
  },
  {
   "cell_type": "code",
   "execution_count": 15,
   "metadata": {},
   "outputs": [],
   "source": [
    "download = rdd_d.map(parseLine).filter(lambda x: len(x) == 7)"
   ]
  },
  {
   "cell_type": "code",
   "execution_count": 16,
   "metadata": {},
   "outputs": [
    {
     "data": {
      "text/html": [
       "<div>\n",
       "<style scoped>\n",
       "    .dataframe tbody tr th:only-of-type {\n",
       "        vertical-align: middle;\n",
       "    }\n",
       "\n",
       "    .dataframe tbody tr th {\n",
       "        vertical-align: top;\n",
       "    }\n",
       "\n",
       "    .dataframe thead th {\n",
       "        text-align: right;\n",
       "    }\n",
       "</style>\n",
       "<table border=\"1\" class=\"dataframe\">\n",
       "  <thead>\n",
       "    <tr style=\"text-align: right;\">\n",
       "      <th></th>\n",
       "      <th>uid</th>\n",
       "      <th>device</th>\n",
       "      <th>song_id</th>\n",
       "      <th>song_name</th>\n",
       "      <th>singer</th>\n",
       "      <th>paid_flag</th>\n",
       "      <th>file_name</th>\n",
       "    </tr>\n",
       "  </thead>\n",
       "  <tbody>\n",
       "    <tr>\n",
       "      <th>0</th>\n",
       "      <td>168019808.0</td>\n",
       "      <td>ar</td>\n",
       "      <td>442554.0</td>\n",
       "      <td>小酒窝</td>\n",
       "      <td>林俊杰&amp;蔡卓妍</td>\n",
       "      <td>0</td>\n",
       "      <td>20170330_1_down.log</td>\n",
       "    </tr>\n",
       "    <tr>\n",
       "      <th>1</th>\n",
       "      <td>168019808.0</td>\n",
       "      <td>ar</td>\n",
       "      <td>6334611.0</td>\n",
       "      <td>社会摇</td>\n",
       "      <td>萧全</td>\n",
       "      <td>0</td>\n",
       "      <td>20170330_1_down.log</td>\n",
       "    </tr>\n",
       "    <tr>\n",
       "      <th>2</th>\n",
       "      <td>168019808.0</td>\n",
       "      <td>ar</td>\n",
       "      <td>9867382.0</td>\n",
       "      <td>台阶</td>\n",
       "      <td>武艺</td>\n",
       "      <td>0</td>\n",
       "      <td>20170330_1_down.log</td>\n",
       "    </tr>\n",
       "    <tr>\n",
       "      <th>3</th>\n",
       "      <td>168019808.0</td>\n",
       "      <td>ar</td>\n",
       "      <td>6660691.0</td>\n",
       "      <td>一次就好-(电影《夏洛特烦恼》暖水曲)</td>\n",
       "      <td>杨宗纬</td>\n",
       "      <td>0</td>\n",
       "      <td>20170330_1_down.log</td>\n",
       "    </tr>\n",
       "    <tr>\n",
       "      <th>4</th>\n",
       "      <td>168019808.0</td>\n",
       "      <td>ar</td>\n",
       "      <td>157606.0</td>\n",
       "      <td>一路上有你</td>\n",
       "      <td>张学友</td>\n",
       "      <td>0</td>\n",
       "      <td>20170330_1_down.log</td>\n",
       "    </tr>\n",
       "    <tr>\n",
       "      <th>5</th>\n",
       "      <td>168019808.0</td>\n",
       "      <td>ar</td>\n",
       "      <td>3372481.0</td>\n",
       "      <td>十年 (OT：明年今日)</td>\n",
       "      <td>陈奕迅</td>\n",
       "      <td>0</td>\n",
       "      <td>20170330_1_down.log</td>\n",
       "    </tr>\n",
       "    <tr>\n",
       "      <th>6</th>\n",
       "      <td>168019808.0</td>\n",
       "      <td>ar</td>\n",
       "      <td>3216525.0</td>\n",
       "      <td>你不知道的事(Live版)</td>\n",
       "      <td>王力宏</td>\n",
       "      <td>0</td>\n",
       "      <td>20170330_1_down.log</td>\n",
       "    </tr>\n",
       "    <tr>\n",
       "      <th>7</th>\n",
       "      <td>168019808.0</td>\n",
       "      <td>ar</td>\n",
       "      <td>6427523.0</td>\n",
       "      <td>Victory</td>\n",
       "      <td>Two Steps From Hell</td>\n",
       "      <td>0</td>\n",
       "      <td>20170330_1_down.log</td>\n",
       "    </tr>\n",
       "    <tr>\n",
       "      <th>8</th>\n",
       "      <td>168019808.0</td>\n",
       "      <td>ar</td>\n",
       "      <td>6538686.0</td>\n",
       "      <td>野子</td>\n",
       "      <td>流浪者</td>\n",
       "      <td>0</td>\n",
       "      <td>20170330_1_down.log</td>\n",
       "    </tr>\n",
       "    <tr>\n",
       "      <th>9</th>\n",
       "      <td>168019808.0</td>\n",
       "      <td>ar</td>\n",
       "      <td>9327383.0</td>\n",
       "      <td>なんでもないや-[没什么大不了](Movie Ver.)-(动画电影《你的名字。》片尾曲)</td>\n",
       "      <td>RADWIMPS</td>\n",
       "      <td>0</td>\n",
       "      <td>20170330_1_down.log</td>\n",
       "    </tr>\n",
       "  </tbody>\n",
       "</table>\n",
       "</div>"
      ],
      "text/plain": [
       "           uid device    song_id  \\\n",
       "0  168019808.0    ar    442554.0   \n",
       "1  168019808.0    ar   6334611.0   \n",
       "2  168019808.0    ar   9867382.0   \n",
       "3  168019808.0    ar   6660691.0   \n",
       "4  168019808.0    ar    157606.0   \n",
       "5  168019808.0    ar   3372481.0   \n",
       "6  168019808.0    ar   3216525.0   \n",
       "7  168019808.0    ar   6427523.0   \n",
       "8  168019808.0    ar   6538686.0   \n",
       "9  168019808.0    ar   9327383.0   \n",
       "\n",
       "                                        song_name                singer  \\\n",
       "0                                            小酒窝               林俊杰&蔡卓妍    \n",
       "1                                            社会摇                    萧全    \n",
       "2                                             台阶                    武艺    \n",
       "3                            一次就好-(电影《夏洛特烦恼》暖水曲)                   杨宗纬    \n",
       "4                                          一路上有你                   张学友    \n",
       "5                                   十年 (OT：明年今日)                   陈奕迅    \n",
       "6                                  你不知道的事(Live版)                   王力宏    \n",
       "7                                        Victory   Two Steps From Hell    \n",
       "8                                             野子                   流浪者    \n",
       "9  なんでもないや-[没什么大不了](Movie Ver.)-(动画电影《你的名字。》片尾曲)              RADWIMPS    \n",
       "\n",
       "  paid_flag             file_name  \n",
       "0        0    20170330_1_down.log  \n",
       "1        0    20170330_1_down.log  \n",
       "2        0    20170330_1_down.log  \n",
       "3        0    20170330_1_down.log  \n",
       "4        0    20170330_1_down.log  \n",
       "5        0    20170330_1_down.log  \n",
       "6        0    20170330_1_down.log  \n",
       "7        0    20170330_1_down.log  \n",
       "8        0    20170330_1_down.log  \n",
       "9        0    20170330_1_down.log  "
      ]
     },
     "execution_count": 16,
     "metadata": {},
     "output_type": "execute_result"
    }
   ],
   "source": [
    "download_df = spark.createDataFrame(download, schema).cache()\n",
    "pd.DataFrame(download_df.take(10), columns = download_df.columns)"
   ]
  },
  {
   "cell_type": "code",
   "execution_count": 20,
   "metadata": {},
   "outputs": [
    {
     "data": {
      "text/plain": [
       "1"
      ]
     },
     "execution_count": 20,
     "metadata": {},
     "output_type": "execute_result"
    }
   ],
   "source": [
    "download_df.select('paid_flag').distinct().count()"
   ]
  },
  {
   "cell_type": "code",
   "execution_count": 17,
   "metadata": {},
   "outputs": [
    {
     "data": {
      "text/html": [
       "<div>\n",
       "<style scoped>\n",
       "    .dataframe tbody tr th:only-of-type {\n",
       "        vertical-align: middle;\n",
       "    }\n",
       "\n",
       "    .dataframe tbody tr th {\n",
       "        vertical-align: top;\n",
       "    }\n",
       "\n",
       "    .dataframe thead th {\n",
       "        text-align: right;\n",
       "    }\n",
       "</style>\n",
       "<table border=\"1\" class=\"dataframe\">\n",
       "  <thead>\n",
       "    <tr style=\"text-align: right;\">\n",
       "      <th></th>\n",
       "      <th>uid</th>\n",
       "      <th>device</th>\n",
       "      <th>song_id</th>\n",
       "      <th>file_name</th>\n",
       "    </tr>\n",
       "  </thead>\n",
       "  <tbody>\n",
       "    <tr>\n",
       "      <th>0</th>\n",
       "      <td>168019808.0</td>\n",
       "      <td>ar</td>\n",
       "      <td>442554.0</td>\n",
       "      <td>20170330_1_down.log</td>\n",
       "    </tr>\n",
       "    <tr>\n",
       "      <th>1</th>\n",
       "      <td>168019808.0</td>\n",
       "      <td>ar</td>\n",
       "      <td>6334611.0</td>\n",
       "      <td>20170330_1_down.log</td>\n",
       "    </tr>\n",
       "    <tr>\n",
       "      <th>2</th>\n",
       "      <td>168019808.0</td>\n",
       "      <td>ar</td>\n",
       "      <td>9867382.0</td>\n",
       "      <td>20170330_1_down.log</td>\n",
       "    </tr>\n",
       "    <tr>\n",
       "      <th>3</th>\n",
       "      <td>168019808.0</td>\n",
       "      <td>ar</td>\n",
       "      <td>6660691.0</td>\n",
       "      <td>20170330_1_down.log</td>\n",
       "    </tr>\n",
       "    <tr>\n",
       "      <th>4</th>\n",
       "      <td>168019808.0</td>\n",
       "      <td>ar</td>\n",
       "      <td>157606.0</td>\n",
       "      <td>20170330_1_down.log</td>\n",
       "    </tr>\n",
       "    <tr>\n",
       "      <th>5</th>\n",
       "      <td>168019808.0</td>\n",
       "      <td>ar</td>\n",
       "      <td>3372481.0</td>\n",
       "      <td>20170330_1_down.log</td>\n",
       "    </tr>\n",
       "    <tr>\n",
       "      <th>6</th>\n",
       "      <td>168019808.0</td>\n",
       "      <td>ar</td>\n",
       "      <td>3216525.0</td>\n",
       "      <td>20170330_1_down.log</td>\n",
       "    </tr>\n",
       "    <tr>\n",
       "      <th>7</th>\n",
       "      <td>168019808.0</td>\n",
       "      <td>ar</td>\n",
       "      <td>6427523.0</td>\n",
       "      <td>20170330_1_down.log</td>\n",
       "    </tr>\n",
       "    <tr>\n",
       "      <th>8</th>\n",
       "      <td>168019808.0</td>\n",
       "      <td>ar</td>\n",
       "      <td>6538686.0</td>\n",
       "      <td>20170330_1_down.log</td>\n",
       "    </tr>\n",
       "    <tr>\n",
       "      <th>9</th>\n",
       "      <td>168019808.0</td>\n",
       "      <td>ar</td>\n",
       "      <td>9327383.0</td>\n",
       "      <td>20170330_1_down.log</td>\n",
       "    </tr>\n",
       "  </tbody>\n",
       "</table>\n",
       "</div>"
      ],
      "text/plain": [
       "           uid device    song_id             file_name\n",
       "0  168019808.0    ar    442554.0   20170330_1_down.log\n",
       "1  168019808.0    ar   6334611.0   20170330_1_down.log\n",
       "2  168019808.0    ar   9867382.0   20170330_1_down.log\n",
       "3  168019808.0    ar   6660691.0   20170330_1_down.log\n",
       "4  168019808.0    ar    157606.0   20170330_1_down.log\n",
       "5  168019808.0    ar   3372481.0   20170330_1_down.log\n",
       "6  168019808.0    ar   3216525.0   20170330_1_down.log\n",
       "7  168019808.0    ar   6427523.0   20170330_1_down.log\n",
       "8  168019808.0    ar   6538686.0   20170330_1_down.log\n",
       "9  168019808.0    ar   9327383.0   20170330_1_down.log"
      ]
     },
     "execution_count": 17,
     "metadata": {},
     "output_type": "execute_result"
    }
   ],
   "source": [
    "download_df = download_df.drop('song_name').drop('singer').drop('paid_flag')\n",
    "pd.DataFrame(download_df.take(10), columns = download_df.columns)"
   ]
  },
  {
   "cell_type": "code",
   "execution_count": 18,
   "metadata": {},
   "outputs": [],
   "source": [
    "#clean format, remove blanks\n",
    "download_df2 = download_df.withColumn(\"device\", trim(download_df.device)) \\\n",
    "                          .withColumn('date_str', trim(download_df.file_name.substr(1,9))) \\\n",
    "                          .withColumn('date_string', regexp_replace('date_str', '20170339', '20170329')) \\\n",
    "                          .withColumn(\"unix_date\", unix_timestamp('date_string', 'yyyyMMdd')) \\\n",
    "                          .withColumn(\"date\", from_unixtime('unix_date').cast(DateType())) \\\n",
    "                .drop('date_str') \\\n",
    "                .drop('date_string') \\\n",
    "                .drop('file_name') \\\n",
    "                .drop('unix_date')\n",
    "\n"
   ]
  },
  {
   "cell_type": "code",
   "execution_count": 20,
   "metadata": {},
   "outputs": [
    {
     "data": {
      "text/html": [
       "<div>\n",
       "<style scoped>\n",
       "    .dataframe tbody tr th:only-of-type {\n",
       "        vertical-align: middle;\n",
       "    }\n",
       "\n",
       "    .dataframe tbody tr th {\n",
       "        vertical-align: top;\n",
       "    }\n",
       "\n",
       "    .dataframe thead th {\n",
       "        text-align: right;\n",
       "    }\n",
       "</style>\n",
       "<table border=\"1\" class=\"dataframe\">\n",
       "  <thead>\n",
       "    <tr style=\"text-align: right;\">\n",
       "      <th></th>\n",
       "      <th>uid</th>\n",
       "      <th>device</th>\n",
       "      <th>song_id</th>\n",
       "      <th>date</th>\n",
       "    </tr>\n",
       "  </thead>\n",
       "  <tbody>\n",
       "    <tr>\n",
       "      <th>0</th>\n",
       "      <td>168019808.0</td>\n",
       "      <td>ar</td>\n",
       "      <td>442554.0</td>\n",
       "      <td>2017-03-30</td>\n",
       "    </tr>\n",
       "    <tr>\n",
       "      <th>1</th>\n",
       "      <td>168019808.0</td>\n",
       "      <td>ar</td>\n",
       "      <td>6334611.0</td>\n",
       "      <td>2017-03-30</td>\n",
       "    </tr>\n",
       "    <tr>\n",
       "      <th>2</th>\n",
       "      <td>168019808.0</td>\n",
       "      <td>ar</td>\n",
       "      <td>9867382.0</td>\n",
       "      <td>2017-03-30</td>\n",
       "    </tr>\n",
       "    <tr>\n",
       "      <th>3</th>\n",
       "      <td>168019808.0</td>\n",
       "      <td>ar</td>\n",
       "      <td>6660691.0</td>\n",
       "      <td>2017-03-30</td>\n",
       "    </tr>\n",
       "    <tr>\n",
       "      <th>4</th>\n",
       "      <td>168019808.0</td>\n",
       "      <td>ar</td>\n",
       "      <td>157606.0</td>\n",
       "      <td>2017-03-30</td>\n",
       "    </tr>\n",
       "    <tr>\n",
       "      <th>5</th>\n",
       "      <td>168019808.0</td>\n",
       "      <td>ar</td>\n",
       "      <td>3372481.0</td>\n",
       "      <td>2017-03-30</td>\n",
       "    </tr>\n",
       "    <tr>\n",
       "      <th>6</th>\n",
       "      <td>168019808.0</td>\n",
       "      <td>ar</td>\n",
       "      <td>3216525.0</td>\n",
       "      <td>2017-03-30</td>\n",
       "    </tr>\n",
       "    <tr>\n",
       "      <th>7</th>\n",
       "      <td>168019808.0</td>\n",
       "      <td>ar</td>\n",
       "      <td>6427523.0</td>\n",
       "      <td>2017-03-30</td>\n",
       "    </tr>\n",
       "    <tr>\n",
       "      <th>8</th>\n",
       "      <td>168019808.0</td>\n",
       "      <td>ar</td>\n",
       "      <td>6538686.0</td>\n",
       "      <td>2017-03-30</td>\n",
       "    </tr>\n",
       "    <tr>\n",
       "      <th>9</th>\n",
       "      <td>168019808.0</td>\n",
       "      <td>ar</td>\n",
       "      <td>9327383.0</td>\n",
       "      <td>2017-03-30</td>\n",
       "    </tr>\n",
       "  </tbody>\n",
       "</table>\n",
       "</div>"
      ],
      "text/plain": [
       "           uid device    song_id        date\n",
       "0  168019808.0     ar   442554.0  2017-03-30\n",
       "1  168019808.0     ar  6334611.0  2017-03-30\n",
       "2  168019808.0     ar  9867382.0  2017-03-30\n",
       "3  168019808.0     ar  6660691.0  2017-03-30\n",
       "4  168019808.0     ar   157606.0  2017-03-30\n",
       "5  168019808.0     ar  3372481.0  2017-03-30\n",
       "6  168019808.0     ar  3216525.0  2017-03-30\n",
       "7  168019808.0     ar  6427523.0  2017-03-30\n",
       "8  168019808.0     ar  6538686.0  2017-03-30\n",
       "9  168019808.0     ar  9327383.0  2017-03-30"
      ]
     },
     "execution_count": 20,
     "metadata": {},
     "output_type": "execute_result"
    }
   ],
   "source": [
    "pd.DataFrame(download_df2.take(10), columns = download_df2.columns)"
   ]
  },
  {
   "cell_type": "code",
   "execution_count": 21,
   "metadata": {},
   "outputs": [
    {
     "data": {
      "text/plain": [
       "90281"
      ]
     },
     "execution_count": 21,
     "metadata": {},
     "output_type": "execute_result"
    }
   ],
   "source": [
    "#how many unique uid?\n",
    "download_uid = download_df2.select('uid').distinct()\n",
    "download_uid.count()"
   ]
  },
  {
   "cell_type": "code",
   "execution_count": 70,
   "metadata": {},
   "outputs": [
    {
     "name": "stdout",
     "output_type": "stream",
     "text": [
      "+------+-------+\n",
      "|device|  count|\n",
      "+------+-------+\n",
      "|    ar|6595221|\n",
      "|    ip|1132541|\n",
      "+------+-------+\n",
      "\n"
     ]
    }
   ],
   "source": [
    "#how download differ in different device?\n",
    "download_df2.groupBy('device').count().show()"
   ]
  },
  {
   "cell_type": "code",
   "execution_count": 19,
   "metadata": {},
   "outputs": [],
   "source": [
    "#save cleaned search.log\n",
    "download_df2.repartition(1).write.csv('D:/MusicFile/cleaned_download', header = True)"
   ]
  },
  {
   "cell_type": "markdown",
   "metadata": {},
   "source": [
    "**if just group by device, there maybe bias, the same ar user download 100 times**"
   ]
  },
  {
   "cell_type": "markdown",
   "metadata": {},
   "source": [
    "## Compare play, search, download\n",
    "1. valid_uid?\n",
    "2. device  percentage?(groupby uid, device)\n",
    "\n",
    "\n",
    "#### Load in valid_play_uid, sampled_uid, sampled_play "
   ]
  },
  {
   "cell_type": "code",
   "execution_count": 4,
   "metadata": {},
   "outputs": [
    {
     "data": {
      "text/html": [
       "<div>\n",
       "<style scoped>\n",
       "    .dataframe tbody tr th:only-of-type {\n",
       "        vertical-align: middle;\n",
       "    }\n",
       "\n",
       "    .dataframe tbody tr th {\n",
       "        vertical-align: top;\n",
       "    }\n",
       "\n",
       "    .dataframe thead th {\n",
       "        text-align: right;\n",
       "    }\n",
       "</style>\n",
       "<table border=\"1\" class=\"dataframe\">\n",
       "  <thead>\n",
       "    <tr style=\"text-align: right;\">\n",
       "      <th></th>\n",
       "      <th>uid</th>\n",
       "      <th>count</th>\n",
       "    </tr>\n",
       "  </thead>\n",
       "  <tbody>\n",
       "    <tr>\n",
       "      <th>0</th>\n",
       "      <td>168392096.0</td>\n",
       "      <td>5399</td>\n",
       "    </tr>\n",
       "    <tr>\n",
       "      <th>1</th>\n",
       "      <td>168531584.0</td>\n",
       "      <td>5398</td>\n",
       "    </tr>\n",
       "    <tr>\n",
       "      <th>2</th>\n",
       "      <td>168281952.0</td>\n",
       "      <td>5394</td>\n",
       "    </tr>\n",
       "    <tr>\n",
       "      <th>3</th>\n",
       "      <td>168373024.0</td>\n",
       "      <td>5392</td>\n",
       "    </tr>\n",
       "    <tr>\n",
       "      <th>4</th>\n",
       "      <td>168203056.0</td>\n",
       "      <td>5391</td>\n",
       "    </tr>\n",
       "  </tbody>\n",
       "</table>\n",
       "</div>"
      ],
      "text/plain": [
       "           uid  count\n",
       "0  168392096.0   5399\n",
       "1  168531584.0   5398\n",
       "2  168281952.0   5394\n",
       "3  168373024.0   5392\n",
       "4  168203056.0   5391"
      ]
     },
     "execution_count": 4,
     "metadata": {},
     "output_type": "execute_result"
    }
   ],
   "source": [
    "valid_uid = pd.read_csv(\"D:/MusicFile/valid_uid/valid_uid_new.csv\")\n",
    "valid_uid.head()"
   ]
  },
  {
   "cell_type": "code",
   "execution_count": 5,
   "metadata": {},
   "outputs": [
    {
     "data": {
      "text/plain": [
       "uid      140635\n",
       "count    140635\n",
       "dtype: int64"
      ]
     },
     "execution_count": 5,
     "metadata": {},
     "output_type": "execute_result"
    }
   ],
   "source": [
    "valid_uid.count()"
   ]
  },
  {
   "cell_type": "markdown",
   "metadata": {},
   "source": [
    "valid_uid = 140635, search_uid = 128386, download_uid = 90281\n",
    "check whether all search_uid and download_uid are in valid_uid\n"
   ]
  },
  {
   "cell_type": "markdown",
   "metadata": {},
   "source": [
    "next step:\n",
    "Since we have cleaned all these three log, we can now do some feature generation in pandas. As file size are all small enough for pandas.\n",
    "\n",
    "1. merge, check valid_uid of play, download, search\n",
    "2. frequency(3,7,14,30) give score?\n",
    "3. model>tuning>evaluation>compare\n",
    "4."
   ]
  },
  {
   "cell_type": "markdown",
   "metadata": {},
   "source": [
    "## Downsampling search and download to match the play.log "
   ]
  },
  {
   "cell_type": "code",
   "execution_count": 5,
   "metadata": {},
   "outputs": [
    {
     "name": "stdout",
     "output_type": "stream",
     "text": [
      "root\n",
      " |-- uid: double (nullable = true)\n",
      " |-- device: string (nullable = true)\n",
      " |-- song_id: double (nullable = true)\n",
      " |-- play_time: double (nullable = true)\n",
      " |-- song_length: double (nullable = true)\n",
      " |-- date: timestamp (nullable = true)\n",
      " |-- churn: integer (nullable = true)\n",
      "\n",
      "None\n"
     ]
    },
    {
     "data": {
      "text/html": [
       "<div>\n",
       "<style scoped>\n",
       "    .dataframe tbody tr th:only-of-type {\n",
       "        vertical-align: middle;\n",
       "    }\n",
       "\n",
       "    .dataframe tbody tr th {\n",
       "        vertical-align: top;\n",
       "    }\n",
       "\n",
       "    .dataframe thead th {\n",
       "        text-align: right;\n",
       "    }\n",
       "</style>\n",
       "<table border=\"1\" class=\"dataframe\">\n",
       "  <thead>\n",
       "    <tr style=\"text-align: right;\">\n",
       "      <th></th>\n",
       "      <th>uid</th>\n",
       "      <th>device</th>\n",
       "      <th>song_id</th>\n",
       "      <th>play_time</th>\n",
       "      <th>song_length</th>\n",
       "      <th>date</th>\n",
       "      <th>churn</th>\n",
       "    </tr>\n",
       "  </thead>\n",
       "  <tbody>\n",
       "    <tr>\n",
       "      <th>0</th>\n",
       "      <td>49423096.0</td>\n",
       "      <td>ar</td>\n",
       "      <td>203139.0</td>\n",
       "      <td>204.0</td>\n",
       "      <td>270.0</td>\n",
       "      <td>2017-04-02</td>\n",
       "      <td>0</td>\n",
       "    </tr>\n",
       "    <tr>\n",
       "      <th>1</th>\n",
       "      <td>49423096.0</td>\n",
       "      <td>ar</td>\n",
       "      <td>133946.0</td>\n",
       "      <td>165.0</td>\n",
       "      <td>286.0</td>\n",
       "      <td>2017-04-02</td>\n",
       "      <td>0</td>\n",
       "    </tr>\n",
       "    <tr>\n",
       "      <th>2</th>\n",
       "      <td>49423096.0</td>\n",
       "      <td>ar</td>\n",
       "      <td>380389.0</td>\n",
       "      <td>40.0</td>\n",
       "      <td>233.0</td>\n",
       "      <td>2017-04-02</td>\n",
       "      <td>0</td>\n",
       "    </tr>\n",
       "    <tr>\n",
       "      <th>3</th>\n",
       "      <td>49423096.0</td>\n",
       "      <td>ar</td>\n",
       "      <td>23534240.0</td>\n",
       "      <td>115.0</td>\n",
       "      <td>378.0</td>\n",
       "      <td>2017-04-02</td>\n",
       "      <td>0</td>\n",
       "    </tr>\n",
       "    <tr>\n",
       "      <th>4</th>\n",
       "      <td>49423096.0</td>\n",
       "      <td>ar</td>\n",
       "      <td>6672344.0</td>\n",
       "      <td>69.0</td>\n",
       "      <td>249.0</td>\n",
       "      <td>2017-04-02</td>\n",
       "      <td>0</td>\n",
       "    </tr>\n",
       "    <tr>\n",
       "      <th>5</th>\n",
       "      <td>49423096.0</td>\n",
       "      <td>ar</td>\n",
       "      <td>6769715.0</td>\n",
       "      <td>123.0</td>\n",
       "      <td>124.0</td>\n",
       "      <td>2017-04-02</td>\n",
       "      <td>0</td>\n",
       "    </tr>\n",
       "    <tr>\n",
       "      <th>6</th>\n",
       "      <td>49423096.0</td>\n",
       "      <td>ar</td>\n",
       "      <td>6989315.0</td>\n",
       "      <td>80.0</td>\n",
       "      <td>84.0</td>\n",
       "      <td>2017-04-02</td>\n",
       "      <td>0</td>\n",
       "    </tr>\n",
       "    <tr>\n",
       "      <th>7</th>\n",
       "      <td>49423096.0</td>\n",
       "      <td>ar</td>\n",
       "      <td>7175883.0</td>\n",
       "      <td>138.0</td>\n",
       "      <td>139.0</td>\n",
       "      <td>2017-04-02</td>\n",
       "      <td>0</td>\n",
       "    </tr>\n",
       "    <tr>\n",
       "      <th>8</th>\n",
       "      <td>49423096.0</td>\n",
       "      <td>ar</td>\n",
       "      <td>7353175.0</td>\n",
       "      <td>6.0</td>\n",
       "      <td>123.0</td>\n",
       "      <td>2017-04-02</td>\n",
       "      <td>0</td>\n",
       "    </tr>\n",
       "    <tr>\n",
       "      <th>9</th>\n",
       "      <td>49423096.0</td>\n",
       "      <td>ar</td>\n",
       "      <td>921642.0</td>\n",
       "      <td>5.0</td>\n",
       "      <td>243.0</td>\n",
       "      <td>2017-04-02</td>\n",
       "      <td>0</td>\n",
       "    </tr>\n",
       "  </tbody>\n",
       "</table>\n",
       "</div>"
      ],
      "text/plain": [
       "          uid device     song_id  play_time  song_length       date  churn\n",
       "0  49423096.0     ar    203139.0      204.0        270.0 2017-04-02      0\n",
       "1  49423096.0     ar    133946.0      165.0        286.0 2017-04-02      0\n",
       "2  49423096.0     ar    380389.0       40.0        233.0 2017-04-02      0\n",
       "3  49423096.0     ar  23534240.0      115.0        378.0 2017-04-02      0\n",
       "4  49423096.0     ar   6672344.0       69.0        249.0 2017-04-02      0\n",
       "5  49423096.0     ar   6769715.0      123.0        124.0 2017-04-02      0\n",
       "6  49423096.0     ar   6989315.0       80.0         84.0 2017-04-02      0\n",
       "7  49423096.0     ar   7175883.0      138.0        139.0 2017-04-02      0\n",
       "8  49423096.0     ar   7353175.0        6.0        123.0 2017-04-02      0\n",
       "9  49423096.0     ar    921642.0        5.0        243.0 2017-04-02      0"
      ]
     },
     "execution_count": 5,
     "metadata": {},
     "output_type": "execute_result"
    }
   ],
   "source": [
    "#reload in sampled_play\n",
    "sample_play = spark.read.csv(\"D:/MusicFile/sample_play_316.csv\", header = True, inferSchema=True)\n",
    "print(sample_play.printSchema())\n",
    "#sampled_play = sampled_play.withColumnRenamed(\"date\", \"play_date\")\n",
    "pd.DataFrame(sample_play.take(10), columns = sample_play.columns)\n",
    "#inferSchema is right, no need to set schema by ourselves"
   ]
  },
  {
   "cell_type": "code",
   "execution_count": 6,
   "metadata": {},
   "outputs": [
    {
     "data": {
      "text/plain": [
       "8823"
      ]
     },
     "execution_count": 6,
     "metadata": {},
     "output_type": "execute_result"
    }
   ],
   "source": [
    "sample_uid_316 = sample_play.select('uid').distinct()\n",
    "sample_uid_316.count()"
   ]
  },
  {
   "cell_type": "code",
   "execution_count": 7,
   "metadata": {},
   "outputs": [],
   "source": [
    "#save sampled_uid as csv\n",
    "sample_uid_316.repartition(1).write.csv('D:/MusicFile/sample_uid_316', header = True)"
   ]
  },
  {
   "cell_type": "code",
   "execution_count": 8,
   "metadata": {},
   "outputs": [
    {
     "name": "stdout",
     "output_type": "stream",
     "text": [
      "root\n",
      " |-- uid: double (nullable = true)\n",
      " |-- device: string (nullable = true)\n",
      " |-- file_name: string (nullable = true)\n",
      " |-- record_date: timestamp (nullable = true)\n",
      " |-- record_time: timestamp (nullable = true)\n",
      "\n",
      "None\n"
     ]
    },
    {
     "data": {
      "text/html": [
       "<div>\n",
       "<style scoped>\n",
       "    .dataframe tbody tr th:only-of-type {\n",
       "        vertical-align: middle;\n",
       "    }\n",
       "\n",
       "    .dataframe tbody tr th {\n",
       "        vertical-align: top;\n",
       "    }\n",
       "\n",
       "    .dataframe thead th {\n",
       "        text-align: right;\n",
       "    }\n",
       "</style>\n",
       "<table border=\"1\" class=\"dataframe\">\n",
       "  <thead>\n",
       "    <tr style=\"text-align: right;\">\n",
       "      <th></th>\n",
       "      <th>uid</th>\n",
       "      <th>device</th>\n",
       "      <th>file_name</th>\n",
       "      <th>date</th>\n",
       "      <th>record_time</th>\n",
       "    </tr>\n",
       "  </thead>\n",
       "  <tbody>\n",
       "    <tr>\n",
       "      <th>0</th>\n",
       "      <td>154436640.0</td>\n",
       "      <td>ip</td>\n",
       "      <td>1_1_search.log</td>\n",
       "      <td>2017-03-01</td>\n",
       "      <td>2017-03-01 01:00:24</td>\n",
       "    </tr>\n",
       "    <tr>\n",
       "      <th>1</th>\n",
       "      <td>154407264.0</td>\n",
       "      <td>ar</td>\n",
       "      <td>1_1_search.log</td>\n",
       "      <td>2017-03-01</td>\n",
       "      <td>2017-03-01 01:00:53</td>\n",
       "    </tr>\n",
       "    <tr>\n",
       "      <th>2</th>\n",
       "      <td>154407856.0</td>\n",
       "      <td>ip</td>\n",
       "      <td>1_1_search.log</td>\n",
       "      <td>2017-03-01</td>\n",
       "      <td>2017-03-01 01:00:54</td>\n",
       "    </tr>\n",
       "    <tr>\n",
       "      <th>3</th>\n",
       "      <td>154407248.0</td>\n",
       "      <td>ar</td>\n",
       "      <td>1_1_search.log</td>\n",
       "      <td>2017-03-01</td>\n",
       "      <td>2017-03-01 01:00:55</td>\n",
       "    </tr>\n",
       "    <tr>\n",
       "      <th>4</th>\n",
       "      <td>154407328.0</td>\n",
       "      <td>ar</td>\n",
       "      <td>1_1_search.log</td>\n",
       "      <td>2017-03-01</td>\n",
       "      <td>2017-03-01 01:00:55</td>\n",
       "    </tr>\n",
       "    <tr>\n",
       "      <th>5</th>\n",
       "      <td>154407248.0</td>\n",
       "      <td>ip</td>\n",
       "      <td>1_1_search.log</td>\n",
       "      <td>2017-03-01</td>\n",
       "      <td>2017-03-01 01:00:56</td>\n",
       "    </tr>\n",
       "    <tr>\n",
       "      <th>6</th>\n",
       "      <td>154407264.0</td>\n",
       "      <td>ip</td>\n",
       "      <td>1_1_search.log</td>\n",
       "      <td>2017-03-01</td>\n",
       "      <td>2017-03-01 01:00:59</td>\n",
       "    </tr>\n",
       "    <tr>\n",
       "      <th>7</th>\n",
       "      <td>154407264.0</td>\n",
       "      <td>ar</td>\n",
       "      <td>1_1_search.log</td>\n",
       "      <td>2017-03-01</td>\n",
       "      <td>2017-03-01 01:00:59</td>\n",
       "    </tr>\n",
       "    <tr>\n",
       "      <th>8</th>\n",
       "      <td>154407552.0</td>\n",
       "      <td>ip</td>\n",
       "      <td>1_1_search.log</td>\n",
       "      <td>2017-03-01</td>\n",
       "      <td>2017-03-01 01:01:00</td>\n",
       "    </tr>\n",
       "    <tr>\n",
       "      <th>9</th>\n",
       "      <td>154407248.0</td>\n",
       "      <td>ar</td>\n",
       "      <td>1_1_search.log</td>\n",
       "      <td>2017-03-01</td>\n",
       "      <td>2017-03-01 01:01:02</td>\n",
       "    </tr>\n",
       "  </tbody>\n",
       "</table>\n",
       "</div>"
      ],
      "text/plain": [
       "           uid device       file_name       date         record_time\n",
       "0  154436640.0     ip  1_1_search.log 2017-03-01 2017-03-01 01:00:24\n",
       "1  154407264.0     ar  1_1_search.log 2017-03-01 2017-03-01 01:00:53\n",
       "2  154407856.0     ip  1_1_search.log 2017-03-01 2017-03-01 01:00:54\n",
       "3  154407248.0     ar  1_1_search.log 2017-03-01 2017-03-01 01:00:55\n",
       "4  154407328.0     ar  1_1_search.log 2017-03-01 2017-03-01 01:00:55\n",
       "5  154407248.0     ip  1_1_search.log 2017-03-01 2017-03-01 01:00:56\n",
       "6  154407264.0     ip  1_1_search.log 2017-03-01 2017-03-01 01:00:59\n",
       "7  154407264.0     ar  1_1_search.log 2017-03-01 2017-03-01 01:00:59\n",
       "8  154407552.0     ip  1_1_search.log 2017-03-01 2017-03-01 01:01:00\n",
       "9  154407248.0     ar  1_1_search.log 2017-03-01 2017-03-01 01:01:02"
      ]
     },
     "execution_count": 8,
     "metadata": {},
     "output_type": "execute_result"
    }
   ],
   "source": [
    "#reload in cleaned_search\n",
    "cleaned_search = spark.read.csv(\"D:/MusicFile/cleaned_search_1.csv\", header = True, inferSchema=True).cache()\n",
    "print(cleaned_search.printSchema())\n",
    "cleaned_search = cleaned_search.withColumnRenamed(\"record_date\", \"date\")\n",
    "pd.DataFrame(cleaned_search.take(10), columns = cleaned_search.columns)"
   ]
  },
  {
   "cell_type": "code",
   "execution_count": 9,
   "metadata": {},
   "outputs": [
    {
     "name": "stdout",
     "output_type": "stream",
     "text": [
      "root\n",
      " |-- uid: double (nullable = true)\n",
      " |-- device: string (nullable = true)\n",
      " |-- song_id: double (nullable = true)\n",
      " |-- date: timestamp (nullable = true)\n",
      "\n",
      "None\n"
     ]
    },
    {
     "data": {
      "text/html": [
       "<div>\n",
       "<style scoped>\n",
       "    .dataframe tbody tr th:only-of-type {\n",
       "        vertical-align: middle;\n",
       "    }\n",
       "\n",
       "    .dataframe tbody tr th {\n",
       "        vertical-align: top;\n",
       "    }\n",
       "\n",
       "    .dataframe thead th {\n",
       "        text-align: right;\n",
       "    }\n",
       "</style>\n",
       "<table border=\"1\" class=\"dataframe\">\n",
       "  <thead>\n",
       "    <tr style=\"text-align: right;\">\n",
       "      <th></th>\n",
       "      <th>uid</th>\n",
       "      <th>device</th>\n",
       "      <th>song_id</th>\n",
       "      <th>date</th>\n",
       "    </tr>\n",
       "  </thead>\n",
       "  <tbody>\n",
       "    <tr>\n",
       "      <th>0</th>\n",
       "      <td>168019808.0</td>\n",
       "      <td>ar</td>\n",
       "      <td>442554.0</td>\n",
       "      <td>2017-03-30</td>\n",
       "    </tr>\n",
       "    <tr>\n",
       "      <th>1</th>\n",
       "      <td>168019808.0</td>\n",
       "      <td>ar</td>\n",
       "      <td>6334611.0</td>\n",
       "      <td>2017-03-30</td>\n",
       "    </tr>\n",
       "    <tr>\n",
       "      <th>2</th>\n",
       "      <td>168019808.0</td>\n",
       "      <td>ar</td>\n",
       "      <td>9867382.0</td>\n",
       "      <td>2017-03-30</td>\n",
       "    </tr>\n",
       "    <tr>\n",
       "      <th>3</th>\n",
       "      <td>168019808.0</td>\n",
       "      <td>ar</td>\n",
       "      <td>6660691.0</td>\n",
       "      <td>2017-03-30</td>\n",
       "    </tr>\n",
       "    <tr>\n",
       "      <th>4</th>\n",
       "      <td>168019808.0</td>\n",
       "      <td>ar</td>\n",
       "      <td>157606.0</td>\n",
       "      <td>2017-03-30</td>\n",
       "    </tr>\n",
       "    <tr>\n",
       "      <th>5</th>\n",
       "      <td>168019808.0</td>\n",
       "      <td>ar</td>\n",
       "      <td>3372481.0</td>\n",
       "      <td>2017-03-30</td>\n",
       "    </tr>\n",
       "    <tr>\n",
       "      <th>6</th>\n",
       "      <td>168019808.0</td>\n",
       "      <td>ar</td>\n",
       "      <td>3216525.0</td>\n",
       "      <td>2017-03-30</td>\n",
       "    </tr>\n",
       "    <tr>\n",
       "      <th>7</th>\n",
       "      <td>168019808.0</td>\n",
       "      <td>ar</td>\n",
       "      <td>6427523.0</td>\n",
       "      <td>2017-03-30</td>\n",
       "    </tr>\n",
       "    <tr>\n",
       "      <th>8</th>\n",
       "      <td>168019808.0</td>\n",
       "      <td>ar</td>\n",
       "      <td>6538686.0</td>\n",
       "      <td>2017-03-30</td>\n",
       "    </tr>\n",
       "    <tr>\n",
       "      <th>9</th>\n",
       "      <td>168019808.0</td>\n",
       "      <td>ar</td>\n",
       "      <td>9327383.0</td>\n",
       "      <td>2017-03-30</td>\n",
       "    </tr>\n",
       "  </tbody>\n",
       "</table>\n",
       "</div>"
      ],
      "text/plain": [
       "           uid device    song_id       date\n",
       "0  168019808.0     ar   442554.0 2017-03-30\n",
       "1  168019808.0     ar  6334611.0 2017-03-30\n",
       "2  168019808.0     ar  9867382.0 2017-03-30\n",
       "3  168019808.0     ar  6660691.0 2017-03-30\n",
       "4  168019808.0     ar   157606.0 2017-03-30\n",
       "5  168019808.0     ar  3372481.0 2017-03-30\n",
       "6  168019808.0     ar  3216525.0 2017-03-30\n",
       "7  168019808.0     ar  6427523.0 2017-03-30\n",
       "8  168019808.0     ar  6538686.0 2017-03-30\n",
       "9  168019808.0     ar  9327383.0 2017-03-30"
      ]
     },
     "execution_count": 9,
     "metadata": {},
     "output_type": "execute_result"
    }
   ],
   "source": [
    "#reload in cleaned_download\n",
    "cleaned_download = spark.read.csv(\"D:/MusicFile/cleaned_download_1.csv\", header = True, inferSchema=True).cache()\n",
    "print(cleaned_download.printSchema())\n",
    "#for the convience of following step, change date in each log into 'date'\n",
    "#cleaned_download = cleaned_download.withColumnRenamed(\"date\", \"download_date\")\n",
    "pd.DataFrame(cleaned_download.take(10), columns = cleaned_download.columns)\n"
   ]
  },
  {
   "cell_type": "code",
   "execution_count": 10,
   "metadata": {},
   "outputs": [
    {
     "data": {
      "text/plain": [
       "7714"
      ]
     },
     "execution_count": 10,
     "metadata": {},
     "output_type": "execute_result"
    }
   ],
   "source": [
    "sample_search = sample_uid_316.join(cleaned_search, sample_uid_316.uid == cleaned_search.uid, 'inner') \\\n",
    ".drop(sample_uid_316.uid)\n",
    "\n",
    "sample_search.select('uid').distinct().count()"
   ]
  },
  {
   "cell_type": "code",
   "execution_count": 11,
   "metadata": {},
   "outputs": [],
   "source": [
    "#save sampled_search\n",
    "sample_search.repartition(1).write.csv(\"D:/MusicFile/sampled_search_316\", header = True)"
   ]
  },
  {
   "cell_type": "code",
   "execution_count": 12,
   "metadata": {},
   "outputs": [
    {
     "data": {
      "text/plain": [
       "4738"
      ]
     },
     "execution_count": 12,
     "metadata": {},
     "output_type": "execute_result"
    }
   ],
   "source": [
    "sample_download = sample_uid_316.join(cleaned_download, sample_uid_316.uid == cleaned_download.uid, 'inner') \\\n",
    ".drop(cleaned_download.uid)\n",
    "sample_download.select('uid').distinct().count()"
   ]
  },
  {
   "cell_type": "code",
   "execution_count": 13,
   "metadata": {},
   "outputs": [],
   "source": [
    "#save sampled_download\n",
    "sample_download.repartition(1).write.csv(\"D:/MusicFile/sample_download_316\", header = True)"
   ]
  },
  {
   "cell_type": "code",
   "execution_count": 18,
   "metadata": {},
   "outputs": [
    {
     "name": "stdout",
     "output_type": "stream",
     "text": [
      "search/play rate is 0.8743057916808342\n",
      "download/play rate is 0.5370055536665533\n"
     ]
    }
   ],
   "source": [
    "print(\"search/play rate is\", 7714/8823)\n",
    "print(\"download/play rate is\", 4738/8823)\n",
    "\n",
    "print(\"search/play rate is\", search_count/play_count)\n",
    "print(\"download/play rate is\", download_count/play_count)"
   ]
  },
  {
   "cell_type": "markdown",
   "metadata": {},
   "source": [
    "#### Some Analysis\n",
    "As we can see the amount of user from sampled play, to search, to download are dropping. If set play as base action, then search/play rate is 87.2%, download/play rate is 53.5%, since we are randomly sampled from the valid uid, these precentage could represent the similar rate for entire log data. If in the later, the prediction model shows search/download feature are also important for churn predictive analysis, we could think about how to increase the converse rate between each phase."
   ]
  }
 ],
 "metadata": {
  "kernelspec": {
   "display_name": "Python 3",
   "language": "python",
   "name": "python3"
  },
  "language_info": {
   "codemirror_mode": {
    "name": "ipython",
    "version": 3
   },
   "file_extension": ".py",
   "mimetype": "text/x-python",
   "name": "python",
   "nbconvert_exporter": "python",
   "pygments_lexer": "ipython3",
   "version": "3.6.4"
  }
 },
 "nbformat": 4,
 "nbformat_minor": 2
}
