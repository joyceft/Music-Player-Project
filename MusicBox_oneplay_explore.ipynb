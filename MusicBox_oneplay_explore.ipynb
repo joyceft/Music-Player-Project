{
 "cells": [
  {
   "cell_type": "code",
   "execution_count": 1,
   "metadata": {},
   "outputs": [],
   "source": [
    "import pandas as pd\n",
    "import numpy as np\n",
    "import matplotlib.pyplot as plt\n",
    "%matplotlib inline\n",
    "import seaborn as sns\n"
   ]
  },
  {
   "cell_type": "code",
   "execution_count": 2,
   "metadata": {},
   "outputs": [
    {
     "data": {
      "text/plain": [
       "'D:\\\\Anaconda\\\\New folder\\\\envs\\\\py3\\\\python.exe'"
      ]
     },
     "execution_count": 2,
     "metadata": {},
     "output_type": "execute_result"
    }
   ],
   "source": [
    "import os\n",
    "os.sys.executable\n"
   ]
  },
  {
   "cell_type": "markdown",
   "metadata": {},
   "source": [
    "## Choose 20170309_play.log.fn to explore"
   ]
  },
  {
   "cell_type": "code",
   "execution_count": 74,
   "metadata": {},
   "outputs": [
    {
     "name": "stderr",
     "output_type": "stream",
     "text": [
      "b'Skipping line 47014: expected 10 fields, saw 11\\n'\n",
      "b'Skipping line 95410: expected 10 fields, saw 11\\nSkipping line 115487: expected 10 fields, saw 11\\n'\n",
      "b'Skipping line 159582: expected 10 fields, saw 11\\n'\n",
      "b'Skipping line 447670: expected 10 fields, saw 11\\n'\n",
      "b'Skipping line 485305: expected 10 fields, saw 11\\nSkipping line 486844: expected 10 fields, saw 11\\n'\n",
      "b'Skipping line 760611: expected 10 fields, saw 11\\nSkipping line 760623: expected 10 fields, saw 11\\nSkipping line 760636: expected 10 fields, saw 11\\nSkipping line 760643: expected 10 fields, saw 11\\nSkipping line 760655: expected 10 fields, saw 11\\nSkipping line 760685: expected 10 fields, saw 11\\nSkipping line 760690: expected 10 fields, saw 11\\nSkipping line 760710: expected 10 fields, saw 11\\n'\n",
      "b'Skipping line 899915: expected 10 fields, saw 11\\n'\n",
      "b'Skipping line 1060595: expected 10 fields, saw 11\\nSkipping line 1072675: expected 10 fields, saw 11\\nSkipping line 1072693: expected 10 fields, saw 11\\nSkipping line 1072712: expected 10 fields, saw 11\\nSkipping line 1072738: expected 10 fields, saw 11\\nSkipping line 1072752: expected 10 fields, saw 11\\nSkipping line 1072774: expected 10 fields, saw 11\\nSkipping line 1072795: expected 10 fields, saw 11\\nSkipping line 1072821: expected 10 fields, saw 11\\nSkipping line 1072837: expected 10 fields, saw 11\\nSkipping line 1072879: expected 10 fields, saw 11\\nSkipping line 1072899: expected 10 fields, saw 11\\nSkipping line 1072926: expected 10 fields, saw 11\\nSkipping line 1072971: expected 10 fields, saw 11\\nSkipping line 1073001: expected 10 fields, saw 11\\n'\n",
      "b'Skipping line 1136812: expected 10 fields, saw 11\\n'\n",
      "c:\\users\\tianyi fang\\appdata\\local\\programs\\python\\python36-32\\lib\\site-packages\\IPython\\core\\interactiveshell.py:2728: DtypeWarning: Columns (7) have mixed types. Specify dtype option on import or set low_memory=False.\n",
      "  interactivity=interactivity, compiler=compiler, result=result)\n"
     ]
    }
   ],
   "source": [
    "colname = ['uid', 'device', 'song_id', 'song_type', 'song_name', 'singer', 'play_time', 'song_length', 'paid_flag', 'file_name']\n",
    "dtype={'uid':float, 'device':str, 'song_id':float, 'song_type':float, 'song_name':str, 'singer':str, 'play_time':float, 'song_length':float, 'paid_flag':float, 'file_name':object}\n",
    "play309 = pd.read_csv(\"D:/MusicFile/play/20170309_1_play.log.fn\", \n",
    "                      sep = '\\t', header = None, dtype = dtype,\n",
    "                      error_bad_lines = False)\n",
    "#find 11 lines are mislocation, so ignore them\n",
    "#so that there will be no need to clean for incorrect value for each columns\n"
   ]
  },
  {
   "cell_type": "code",
   "execution_count": 75,
   "metadata": {},
   "outputs": [
    {
     "data": {
      "text/html": [
       "<div>\n",
       "<style scoped>\n",
       "    .dataframe tbody tr th:only-of-type {\n",
       "        vertical-align: middle;\n",
       "    }\n",
       "\n",
       "    .dataframe tbody tr th {\n",
       "        vertical-align: top;\n",
       "    }\n",
       "\n",
       "    .dataframe thead th {\n",
       "        text-align: right;\n",
       "    }\n",
       "</style>\n",
       "<table border=\"1\" class=\"dataframe\">\n",
       "  <thead>\n",
       "    <tr style=\"text-align: right;\">\n",
       "      <th></th>\n",
       "      <th>uid</th>\n",
       "      <th>device</th>\n",
       "      <th>song_id</th>\n",
       "      <th>song_type</th>\n",
       "      <th>song_name</th>\n",
       "      <th>singer</th>\n",
       "      <th>play_time</th>\n",
       "      <th>song_length</th>\n",
       "      <th>paid_flag</th>\n",
       "      <th>file_name</th>\n",
       "    </tr>\n",
       "  </thead>\n",
       "  <tbody>\n",
       "    <tr>\n",
       "      <th>0</th>\n",
       "      <td>154607971.0</td>\n",
       "      <td>ar</td>\n",
       "      <td>6684171</td>\n",
       "      <td>0</td>\n",
       "      <td>走天涯</td>\n",
       "      <td>降央卓玛</td>\n",
       "      <td>64</td>\n",
       "      <td>271</td>\n",
       "      <td>0.0</td>\n",
       "      <td>20170309_1_play.log</td>\n",
       "    </tr>\n",
       "    <tr>\n",
       "      <th>1</th>\n",
       "      <td>154801140.0</td>\n",
       "      <td>ar</td>\n",
       "      <td>1967746</td>\n",
       "      <td>0</td>\n",
       "      <td>浅浅的笑</td>\n",
       "      <td>夏后</td>\n",
       "      <td>0</td>\n",
       "      <td>0</td>\n",
       "      <td>0.0</td>\n",
       "      <td>20170309_1_play.log</td>\n",
       "    </tr>\n",
       "    <tr>\n",
       "      <th>2</th>\n",
       "      <td>154801140.0</td>\n",
       "      <td>ar</td>\n",
       "      <td>3222553</td>\n",
       "      <td>0</td>\n",
       "      <td>小情绪</td>\n",
       "      <td>夏后</td>\n",
       "      <td>196</td>\n",
       "      <td>196</td>\n",
       "      <td>0.0</td>\n",
       "      <td>20170309_1_play.log</td>\n",
       "    </tr>\n",
       "    <tr>\n",
       "      <th>3</th>\n",
       "      <td>154801140.0</td>\n",
       "      <td>ar</td>\n",
       "      <td>11425031</td>\n",
       "      <td>0</td>\n",
       "      <td>童话镇</td>\n",
       "      <td>陈一发</td>\n",
       "      <td>257</td>\n",
       "      <td>257</td>\n",
       "      <td>0.0</td>\n",
       "      <td>20170309_1_play.log</td>\n",
       "    </tr>\n",
       "    <tr>\n",
       "      <th>4</th>\n",
       "      <td>154801140.0</td>\n",
       "      <td>ar</td>\n",
       "      <td>21295307</td>\n",
       "      <td>0</td>\n",
       "      <td>皮皮虾我们走</td>\n",
       "      <td>MC马克</td>\n",
       "      <td>115</td>\n",
       "      <td>116</td>\n",
       "      <td>0.0</td>\n",
       "      <td>20170309_1_play.log</td>\n",
       "    </tr>\n",
       "  </tbody>\n",
       "</table>\n",
       "</div>"
      ],
      "text/plain": [
       "           uid device    song_id song_type song_name singer play_time  \\\n",
       "0  154607971.0    ar    6684171         0       走天涯   降央卓玛        64    \n",
       "1  154801140.0    ar    1967746         0      浅浅的笑     夏后         0    \n",
       "2  154801140.0    ar    3222553         0       小情绪     夏后       196    \n",
       "3  154801140.0    ar   11425031         0       童话镇    陈一发       257    \n",
       "4  154801140.0    ar   21295307         0    皮皮虾我们走   MC马克       115    \n",
       "\n",
       "  song_length  paid_flag             file_name  \n",
       "0         271        0.0   20170309_1_play.log  \n",
       "1           0        0.0   20170309_1_play.log  \n",
       "2         196        0.0   20170309_1_play.log  \n",
       "3         257        0.0   20170309_1_play.log  \n",
       "4         116        0.0   20170309_1_play.log  "
      ]
     },
     "execution_count": 75,
     "metadata": {},
     "output_type": "execute_result"
    }
   ],
   "source": [
    "play309.columns = colname\n",
    "play309.head()"
   ]
  },
  {
   "cell_type": "code",
   "execution_count": 76,
   "metadata": {},
   "outputs": [
    {
     "name": "stdout",
     "output_type": "stream",
     "text": [
      "(1172799, 10)\n",
      "                uid  paid_flag\n",
      "count  1.172369e+06  1171939.0\n",
      "mean   1.355000e+08        0.0\n",
      "std    4.761660e+07        0.0\n",
      "min    0.000000e+00        0.0\n",
      "25%    1.544497e+08        0.0\n",
      "50%    1.545913e+08        0.0\n",
      "75%    1.547258e+08        0.0\n",
      "max    1.584779e+08        0.0\n",
      "uid            float64\n",
      "device          object\n",
      "song_id         object\n",
      "song_type       object\n",
      "song_name       object\n",
      "singer          object\n",
      "play_time       object\n",
      "song_length     object\n",
      "paid_flag      float64\n",
      "file_name       object\n",
      "dtype: object\n",
      "uid            float64\n",
      "device          object\n",
      "song_id         object\n",
      "song_type       object\n",
      "song_name       object\n",
      "singer          object\n",
      "play_time       object\n",
      "song_length     object\n",
      "paid_flag      float64\n",
      "file_name       object\n",
      "dtype: object\n"
     ]
    }
   ],
   "source": [
    "print(play309.shape)\n",
    "print(play309.describe())\n",
    "print(play309.dtypes)\n",
    "#we know uid, song_id, song_type, play_time, song_length, paid_flag should all be float, if there are not, there must be some bad values\n",
    "play309[['song_id', 'song_type', \"play_time\", \"song_length\"]] = play309[['song_id', 'song_type', \"play_time\", \"song_length\"]]\\\n",
    ".apply(pd.to_numeric, errors='ignore')\n",
    "print(play309.dtypes)"
   ]
  },
  {
   "cell_type": "code",
   "execution_count": 19,
   "metadata": {},
   "outputs": [
    {
     "data": {
      "text/html": [
       "<div>\n",
       "<style scoped>\n",
       "    .dataframe tbody tr th:only-of-type {\n",
       "        vertical-align: middle;\n",
       "    }\n",
       "\n",
       "    .dataframe tbody tr th {\n",
       "        vertical-align: top;\n",
       "    }\n",
       "\n",
       "    .dataframe thead th {\n",
       "        text-align: right;\n",
       "    }\n",
       "</style>\n",
       "<table border=\"1\" class=\"dataframe\">\n",
       "  <thead>\n",
       "    <tr style=\"text-align: right;\">\n",
       "      <th></th>\n",
       "      <th>miss cnt</th>\n",
       "      <th>miss precent</th>\n",
       "    </tr>\n",
       "  </thead>\n",
       "  <tbody>\n",
       "    <tr>\n",
       "      <th>uid</th>\n",
       "      <td>430</td>\n",
       "      <td>0.036664</td>\n",
       "    </tr>\n",
       "    <tr>\n",
       "      <th>device</th>\n",
       "      <td>0</td>\n",
       "      <td>0.000000</td>\n",
       "    </tr>\n",
       "    <tr>\n",
       "      <th>song_id</th>\n",
       "      <td>0</td>\n",
       "      <td>0.000000</td>\n",
       "    </tr>\n",
       "    <tr>\n",
       "      <th>song_type</th>\n",
       "      <td>0</td>\n",
       "      <td>0.000000</td>\n",
       "    </tr>\n",
       "    <tr>\n",
       "      <th>song_name</th>\n",
       "      <td>0</td>\n",
       "      <td>0.000000</td>\n",
       "    </tr>\n",
       "    <tr>\n",
       "      <th>singer</th>\n",
       "      <td>430</td>\n",
       "      <td>0.036664</td>\n",
       "    </tr>\n",
       "    <tr>\n",
       "      <th>play_time</th>\n",
       "      <td>860</td>\n",
       "      <td>0.073329</td>\n",
       "    </tr>\n",
       "    <tr>\n",
       "      <th>song_length</th>\n",
       "      <td>860</td>\n",
       "      <td>0.073329</td>\n",
       "    </tr>\n",
       "    <tr>\n",
       "      <th>paid_flag</th>\n",
       "      <td>860</td>\n",
       "      <td>0.073329</td>\n",
       "    </tr>\n",
       "    <tr>\n",
       "      <th>file_name</th>\n",
       "      <td>860</td>\n",
       "      <td>0.073329</td>\n",
       "    </tr>\n",
       "  </tbody>\n",
       "</table>\n",
       "</div>"
      ],
      "text/plain": [
       "             miss cnt  miss precent\n",
       "uid               430      0.036664\n",
       "device              0      0.000000\n",
       "song_id             0      0.000000\n",
       "song_type           0      0.000000\n",
       "song_name           0      0.000000\n",
       "singer            430      0.036664\n",
       "play_time         860      0.073329\n",
       "song_length       860      0.073329\n",
       "paid_flag         860      0.073329\n",
       "file_name         860      0.073329"
      ]
     },
     "execution_count": 19,
     "metadata": {},
     "output_type": "execute_result"
    }
   ],
   "source": [
    "#is there any missing values?\n",
    "pd.DataFrame({'miss cnt': play309.isnull().sum(axis = 0),\n",
    "             'miss precent': play309.isnull().sum(axis = 0)/play309.shape[0]*100})\n",
    "#there are at most 860 missing rows among 1172799 rows, \n"
   ]
  },
  {
   "cell_type": "code",
   "execution_count": 20,
   "metadata": {},
   "outputs": [
    {
     "data": {
      "text/html": [
       "<div>\n",
       "<style scoped>\n",
       "    .dataframe tbody tr th:only-of-type {\n",
       "        vertical-align: middle;\n",
       "    }\n",
       "\n",
       "    .dataframe tbody tr th {\n",
       "        vertical-align: top;\n",
       "    }\n",
       "\n",
       "    .dataframe thead th {\n",
       "        text-align: right;\n",
       "    }\n",
       "</style>\n",
       "<table border=\"1\" class=\"dataframe\">\n",
       "  <thead>\n",
       "    <tr style=\"text-align: right;\">\n",
       "      <th></th>\n",
       "      <th>uid</th>\n",
       "      <th>device</th>\n",
       "      <th>song_id</th>\n",
       "      <th>song_type</th>\n",
       "      <th>song_name</th>\n",
       "      <th>singer</th>\n",
       "      <th>play_time</th>\n",
       "      <th>song_length</th>\n",
       "      <th>paid_flag</th>\n",
       "      <th>file_name</th>\n",
       "    </tr>\n",
       "  </thead>\n",
       "  <tbody>\n",
       "  </tbody>\n",
       "</table>\n",
       "</div>"
      ],
      "text/plain": [
       "Empty DataFrame\n",
       "Columns: [uid, device, song_id, song_type, song_name, singer, play_time, song_length, paid_flag, file_name]\n",
       "Index: []"
      ]
     },
     "execution_count": 20,
     "metadata": {},
     "output_type": "execute_result"
    }
   ],
   "source": [
    "#check whether they are from the same uid, if so, they can be dropped.\n",
    "play309.loc[play309.isnull().sum(axis = 1)>=play309.shape[1]-1]\n",
    "#there is none, so first drop rows without uid"
   ]
  },
  {
   "cell_type": "code",
   "execution_count": 77,
   "metadata": {},
   "outputs": [
    {
     "name": "stdout",
     "output_type": "stream",
     "text": [
      "       uid      device song_id song_type song_name                singer  \\\n",
      "69     NaN       乌兰图雅       2        22         0    20170309_1_play.log   \n",
      "414    NaN       乌兰图雅       0        22         0    20170309_1_play.log   \n",
      "7695   NaN       乌兰图雅      22        22         0    20170309_1_play.log   \n",
      "10931  NaN        胡彦斌      67        68         0    20170309_1_play.log   \n",
      "22585  NaN  渔圈&amp;C蓝      28        29         0    20170309_1_play.log   \n",
      "\n",
      "      play_time song_length  paid_flag file_name  \n",
      "69          NaN         NaN        NaN       NaN  \n",
      "414         NaN         NaN        NaN       NaN  \n",
      "7695        NaN         NaN        NaN       NaN  \n",
      "10931       NaN         NaN        NaN       NaN  \n",
      "22585       NaN         NaN        NaN       NaN  \n",
      "How many 430\n",
      "(1172369, 10)\n"
     ]
    }
   ],
   "source": [
    "#check uid\n",
    "print(play309[play309.uid.isnull()].head())\n",
    "print(\"How many\", play309.uid.isnull().sum())\n",
    "play309 = play309.dropna(subset = ['uid'])\n",
    "#print(play309.dropna(subset = ['uid']).head())\n",
    "print(play309.shape)"
   ]
  },
  {
   "cell_type": "code",
   "execution_count": 97,
   "metadata": {},
   "outputs": [
    {
     "data": {
      "text/plain": [
       "1685126.0      59093\n",
       "37025504.0     48150\n",
       "26036032.0     10960\n",
       "28638487.0      6452\n",
       "398309.0        5541\n",
       "1749320.0       5428\n",
       "0.0             4234\n",
       "1677249.0       3816\n",
       "154712043.0     3496\n",
       "1883192.0       3240\n",
       "154549077.0     2490\n",
       "533817.0        1898\n",
       "154436348.0     1591\n",
       "154482414.0     1530\n",
       "154822367.0     1462\n",
       "154733676.0     1447\n",
       "154486607.0     1207\n",
       "154461657.0     1106\n",
       "57820269.0      1075\n",
       "154607971.0     1051\n",
       "154768977.0     1005\n",
       "32166203.0      1000\n",
       "154733229.0      896\n",
       "154790230.0      882\n",
       "156263019.0      827\n",
       "154730998.0      822\n",
       "154735552.0      790\n",
       "154695911.0      785\n",
       "154756620.0      774\n",
       "154580251.0      740\n",
       "               ...  \n",
       "154621305.0        1\n",
       "154436814.0        1\n",
       "154451266.0        1\n",
       "154450955.0        1\n",
       "154620972.0        1\n",
       "154631134.0        1\n",
       "154790307.0        1\n",
       "3907096.0          1\n",
       "154723352.0        1\n",
       "154682269.0        1\n",
       "154450758.0        1\n",
       "154628209.0        1\n",
       "154766858.0        1\n",
       "154723754.0        1\n",
       "154789307.0        1\n",
       "154761748.0        1\n",
       "154625134.0        1\n",
       "154724142.0        1\n",
       "154607046.0        1\n",
       "154449463.0        1\n",
       "154606512.0        1\n",
       "154602818.0        1\n",
       "154602252.0        1\n",
       "154572784.0        1\n",
       "154460722.0        1\n",
       "154438104.0        1\n",
       "154760272.0        1\n",
       "154784180.0        1\n",
       "154778452.0        1\n",
       "154548607.0        1\n",
       "Name: uid, Length: 41751, dtype: int64"
      ]
     },
     "execution_count": 97,
     "metadata": {},
     "output_type": "execute_result"
    }
   ],
   "source": [
    "play309.uid.value_counts()"
   ]
  },
  {
   "cell_type": "markdown",
   "metadata": {},
   "source": [
    "We find just in one day, there are some user played more than 50000 songs, which is really abnormal. Maybe these user are tester or robots."
   ]
  },
  {
   "cell_type": "code",
   "execution_count": 50,
   "metadata": {},
   "outputs": [
    {
     "name": "stdout",
     "output_type": "stream",
     "text": [
      "ar     984839\n",
      "ip     187530\n",
      "Name: device, dtype: int64\n",
      "precentage of each platform:\n",
      "ar     0.840042\n",
      "ip     0.159958\n",
      "Name: device, dtype: float64\n"
     ]
    },
    {
     "data": {
      "text/plain": [
       "array([<matplotlib.axes._subplots.AxesSubplot object at 0x194B6DF0>],\n",
       "      dtype=object)"
      ]
     },
     "execution_count": 50,
     "metadata": {},
     "output_type": "execute_result"
    },
    {
     "data": {
      "image/png": "[encoded data removed]",
      "text/plain": [
       "<matplotlib.figure.Figure at 0xeb86a30>"
      ]
     },
     "metadata": {},
     "output_type": "display_data"
    }
   ],
   "source": [
    "#check the device column\n",
    "print(play309['device'].value_counts())\n",
    "print(\"precentage of each platform:\")\n",
    "print(play309['device'].value_counts()/play309.shape[0])\n",
    "pd.DataFrame(play309['device'].value_counts()).plot(kind = 'bar', subplots = True)\n"
   ]
  },
  {
   "cell_type": "markdown",
   "metadata": {},
   "source": [
    "There are 84% user use Android, only 16% user use IPhone. Later we can check the churn rate form each platform."
   ]
  },
  {
   "cell_type": "code",
   "execution_count": 63,
   "metadata": {},
   "outputs": [
    {
     "name": "stdout",
     "output_type": "stream",
     "text": [
      "0            92071\n",
      "15249349     10692\n",
      "9950164       9261\n",
      "15807836      5387\n",
      "5237384       4053\n",
      "Name: song_id, dtype: int64\n",
      "156791\n"
     ]
    }
   ],
   "source": [
    "#song_id\n",
    "print(play309.song_id.value_counts().head())\n",
    "print(len(play309.song_id.unique()))\n",
    "#there are 156791 songs.But there are 92071 song_id, which is 0.."
   ]
  },
  {
   "cell_type": "code",
   "execution_count": 64,
   "metadata": {},
   "outputs": [
    {
     "data": {
      "text/plain": [
       "0     1036871\n",
       "1      122885\n",
       "2       11342\n",
       "         1206\n",
       "3          65\n",
       "Name: song_type, dtype: int64"
      ]
     },
     "execution_count": 64,
     "metadata": {},
     "output_type": "execute_result"
    }
   ],
   "source": [
    "#song_type\n",
    "play309.song_type.value_counts()\n",
    "#need domain information about the definition of song_type, \n",
    "#maybe categorized by region/restricted or not.."
   ]
  },
  {
   "cell_type": "markdown",
   "metadata": {},
   "source": [
    "Song_name and Singer contains Chinese Characters, but it is OK, we will explore them later if needed"
   ]
  },
  {
   "cell_type": "markdown",
   "metadata": {},
   "source": [
    "##### play_time \n",
    "Since one file is the record of one day, so play_time means how many second a user play this song in a day, the minimum value should be 0, which means the user accidentally play this song, and immediately stop it. The maximum should not be over 72000, also for a user's total play time, since extremely small amount of real user would listen more than 20 hours, if we are focusing on analyzing the behavior and trend of majority user, those outliers should be dropped.\n",
    "##### song_length\n",
    "It is possible for song_length being 0, especially for those songs' play time is not 0. That means the songs are actually exist, but we lack the information of that song. If possible, fill it with possible play time.\n",
    "\n",
    "If the play_time is much more than song_length, that means the user continuous listen to this song several times, in that case, we cannot impute song_length with play_time."
   ]
  },
  {
   "cell_type": "code",
   "execution_count": 85,
   "metadata": {},
   "outputs": [
    {
     "name": "stdout",
     "output_type": "stream",
     "text": [
      "               uid device   song_id song_type        song_name singer  \\\n",
      "68     154829204.0    ar   6112434         0     草原一枝花(22秒铃声版)    NaN   \n",
      "413    154829204.0    ar   6112434         0     草原一枝花(22秒铃声版)    NaN   \n",
      "7694   154829204.0    ar   6112434         0     草原一枝花(22秒铃声版)    NaN   \n",
      "10930  154658189.0    ar   6213204         0   男人KTV(1分08秒铃声版)    NaN   \n",
      "22584  154582795.0    ar   6210560         0   你说过,我信过(29秒铃声版)    NaN   \n",
      "\n",
      "      play_time song_length  paid_flag file_name  \n",
      "68          NaN         NaN        NaN       NaN  \n",
      "413         NaN         NaN        NaN       NaN  \n",
      "7694        NaN         NaN        NaN       NaN  \n",
      "10930       NaN         NaN        NaN       NaN  \n",
      "22584       NaN         NaN        NaN       NaN  \n",
      "(430, 10)\n"
     ]
    }
   ],
   "source": [
    "#check the missin data for both columns\n",
    "print(play309[play309['play_time'].isnull()].head())\n",
    "print(play309[play309['play_time'].isnull()].shape)\n",
    "#there are another 430 rows with NAN in the last 5 columns. drop them"
   ]
  },
  {
   "cell_type": "code",
   "execution_count": 89,
   "metadata": {},
   "outputs": [
    {
     "name": "stdout",
     "output_type": "stream",
     "text": [
      "(1171939, 10)\n"
     ]
    },
    {
     "data": {
      "text/plain": [
       "dtype('O')"
      ]
     },
     "execution_count": 89,
     "metadata": {},
     "output_type": "execute_result"
    }
   ],
   "source": [
    "play309 = play309.dropna(subset = ['play_time'])\n",
    "print(play309.shape)"
   ]
  },
  {
   "cell_type": "code",
   "execution_count": 92,
   "metadata": {},
   "outputs": [
    {
     "name": "stdout",
     "output_type": "stream",
     "text": [
      "float64\n",
      "float64\n"
     ]
    }
   ],
   "source": [
    "#change dtypes from objects to numeric, so that they canbe compared\n",
    "play309['play_time'] = pd.to_numeric(play309['play_time'], errors = 'coerce')\n",
    "print(play309['play_time'].dtype)\n",
    "play309['song_length'] = pd.to_numeric(play309['song_length'], errors = 'coerce')\n",
    "print(play309['song_length'].dtype)"
   ]
  },
  {
   "cell_type": "code",
   "execution_count": 109,
   "metadata": {},
   "outputs": [
    {
     "data": {
      "text/html": [
       "<div>\n",
       "<style scoped>\n",
       "    .dataframe tbody tr th:only-of-type {\n",
       "        vertical-align: middle;\n",
       "    }\n",
       "\n",
       "    .dataframe tbody tr th {\n",
       "        vertical-align: top;\n",
       "    }\n",
       "\n",
       "    .dataframe thead th {\n",
       "        text-align: right;\n",
       "    }\n",
       "</style>\n",
       "<table border=\"1\" class=\"dataframe\">\n",
       "  <thead>\n",
       "    <tr style=\"text-align: right;\">\n",
       "      <th></th>\n",
       "      <th>play_time</th>\n",
       "      <th>song_length</th>\n",
       "    </tr>\n",
       "  </thead>\n",
       "  <tbody>\n",
       "    <tr>\n",
       "      <th>count</th>\n",
       "      <td>1.164075e+06</td>\n",
       "      <td>1.171931e+06</td>\n",
       "    </tr>\n",
       "    <tr>\n",
       "      <th>mean</th>\n",
       "      <td>6.156524e+03</td>\n",
       "      <td>2.457152e+02</td>\n",
       "    </tr>\n",
       "    <tr>\n",
       "      <th>std</th>\n",
       "      <td>6.766279e+05</td>\n",
       "      <td>1.405158e+03</td>\n",
       "    </tr>\n",
       "    <tr>\n",
       "      <th>min</th>\n",
       "      <td>-1.097109e-01</td>\n",
       "      <td>-1.000000e+00</td>\n",
       "    </tr>\n",
       "    <tr>\n",
       "      <th>25%</th>\n",
       "      <td>6.000000e+00</td>\n",
       "      <td>1.670000e+02</td>\n",
       "    </tr>\n",
       "    <tr>\n",
       "      <th>50%</th>\n",
       "      <td>1.590000e+02</td>\n",
       "      <td>2.320000e+02</td>\n",
       "    </tr>\n",
       "    <tr>\n",
       "      <th>75%</th>\n",
       "      <td>2.490000e+02</td>\n",
       "      <td>2.730000e+02</td>\n",
       "    </tr>\n",
       "    <tr>\n",
       "      <th>max</th>\n",
       "      <td>6.852882e+08</td>\n",
       "      <td>3.920000e+05</td>\n",
       "    </tr>\n",
       "  </tbody>\n",
       "</table>\n",
       "</div>"
      ],
      "text/plain": [
       "          play_time   song_length\n",
       "count  1.164075e+06  1.171931e+06\n",
       "mean   6.156524e+03  2.457152e+02\n",
       "std    6.766279e+05  1.405158e+03\n",
       "min   -1.097109e-01 -1.000000e+00\n",
       "25%    6.000000e+00  1.670000e+02\n",
       "50%    1.590000e+02  2.320000e+02\n",
       "75%    2.490000e+02  2.730000e+02\n",
       "max    6.852882e+08  3.920000e+05"
      ]
     },
     "execution_count": 109,
     "metadata": {},
     "output_type": "execute_result"
    }
   ],
   "source": [
    "play309[['play_time', 'song_length']].describe()"
   ]
  },
  {
   "cell_type": "markdown",
   "metadata": {},
   "source": [
    "Find there are negative value, which is impossible, drop"
   ]
  },
  {
   "cell_type": "code",
   "execution_count": 111,
   "metadata": {},
   "outputs": [],
   "source": [
    "play309['play_time'] = play309['play_time'][play309['play_time']>0]\n",
    "play309['song_length'] = play309['song_length'][play309['song_length']>0]"
   ]
  },
  {
   "cell_type": "code",
   "execution_count": 112,
   "metadata": {},
   "outputs": [
    {
     "name": "stdout",
     "output_type": "stream",
     "text": [
      "play_time > song_length\n",
      "uid            49645\n",
      "device         49645\n",
      "song_id        49645\n",
      "song_type      49645\n",
      "song_name      49645\n",
      "singer         49645\n",
      "play_time      49645\n",
      "song_length    49645\n",
      "paid_flag      49645\n",
      "file_name      49645\n",
      "dtype: int64\n"
     ]
    },
    {
     "data": {
      "text/html": [
       "<div>\n",
       "<style scoped>\n",
       "    .dataframe tbody tr th:only-of-type {\n",
       "        vertical-align: middle;\n",
       "    }\n",
       "\n",
       "    .dataframe tbody tr th {\n",
       "        vertical-align: top;\n",
       "    }\n",
       "\n",
       "    .dataframe thead th {\n",
       "        text-align: right;\n",
       "    }\n",
       "</style>\n",
       "<table border=\"1\" class=\"dataframe\">\n",
       "  <thead>\n",
       "    <tr style=\"text-align: right;\">\n",
       "      <th></th>\n",
       "      <th>uid</th>\n",
       "      <th>device</th>\n",
       "      <th>song_id</th>\n",
       "      <th>song_type</th>\n",
       "      <th>song_name</th>\n",
       "      <th>singer</th>\n",
       "      <th>play_time</th>\n",
       "      <th>song_length</th>\n",
       "      <th>paid_flag</th>\n",
       "      <th>file_name</th>\n",
       "    </tr>\n",
       "  </thead>\n",
       "  <tbody>\n",
       "    <tr>\n",
       "      <th>14</th>\n",
       "      <td>154791432.0</td>\n",
       "      <td>ar</td>\n",
       "      <td>124335</td>\n",
       "      <td>0</td>\n",
       "      <td>最佳损友</td>\n",
       "      <td>陈奕迅</td>\n",
       "      <td>236.0</td>\n",
       "      <td>235.0</td>\n",
       "      <td>0.0</td>\n",
       "      <td>20170309_1_play.log</td>\n",
       "    </tr>\n",
       "    <tr>\n",
       "      <th>34</th>\n",
       "      <td>154805283.0</td>\n",
       "      <td>ar</td>\n",
       "      <td>218036</td>\n",
       "      <td>0</td>\n",
       "      <td>从今开始</td>\n",
       "      <td>黎明</td>\n",
       "      <td>237.0</td>\n",
       "      <td>236.0</td>\n",
       "      <td>0.0</td>\n",
       "      <td>20170309_1_play.log</td>\n",
       "    </tr>\n",
       "    <tr>\n",
       "      <th>50</th>\n",
       "      <td>154445920.0</td>\n",
       "      <td>ar</td>\n",
       "      <td>4441094</td>\n",
       "      <td>0</td>\n",
       "      <td>殇雪</td>\n",
       "      <td>云菲菲</td>\n",
       "      <td>285.0</td>\n",
       "      <td>284.0</td>\n",
       "      <td>0.0</td>\n",
       "      <td>20170309_1_play.log</td>\n",
       "    </tr>\n",
       "    <tr>\n",
       "      <th>115</th>\n",
       "      <td>154800971.0</td>\n",
       "      <td>ar</td>\n",
       "      <td>6468891</td>\n",
       "      <td>0</td>\n",
       "      <td>演员</td>\n",
       "      <td>薛之谦</td>\n",
       "      <td>262.0</td>\n",
       "      <td>261.0</td>\n",
       "      <td>0.0</td>\n",
       "      <td>20170309_1_play.log</td>\n",
       "    </tr>\n",
       "    <tr>\n",
       "      <th>161</th>\n",
       "      <td>154631552.0</td>\n",
       "      <td>ar</td>\n",
       "      <td>7176392</td>\n",
       "      <td>0</td>\n",
       "      <td>成都</td>\n",
       "      <td>赵雷</td>\n",
       "      <td>125.0</td>\n",
       "      <td>124.0</td>\n",
       "      <td>0.0</td>\n",
       "      <td>20170309_1_play.log</td>\n",
       "    </tr>\n",
       "  </tbody>\n",
       "</table>\n",
       "</div>"
      ],
      "text/plain": [
       "             uid device   song_id song_type song_name singer  play_time  \\\n",
       "14   154791432.0    ar    124335         0      最佳损友    陈奕迅       236.0   \n",
       "34   154805283.0    ar    218036         0      从今开始     黎明       237.0   \n",
       "50   154445920.0    ar   4441094         0        殇雪    云菲菲       285.0   \n",
       "115  154800971.0    ar   6468891         0        演员    薛之谦       262.0   \n",
       "161  154631552.0    ar   7176392         0        成都     赵雷       125.0   \n",
       "\n",
       "     song_length  paid_flag             file_name  \n",
       "14         235.0        0.0   20170309_1_play.log  \n",
       "34         236.0        0.0   20170309_1_play.log  \n",
       "50         284.0        0.0   20170309_1_play.log  \n",
       "115        261.0        0.0   20170309_1_play.log  \n",
       "161        124.0        0.0   20170309_1_play.log  "
      ]
     },
     "execution_count": 112,
     "metadata": {},
     "output_type": "execute_result"
    }
   ],
   "source": [
    "#play_length >song_length\n",
    "print(\"play_time > song_length\")\n",
    "print(play309.loc[play309['play_time']>play309['song_length']].count())\n",
    "play309.loc[play309['play_time']>play309['song_length']].head()"
   ]
  },
  {
   "cell_type": "markdown",
   "metadata": {},
   "source": [
    "As we can see, a lot of rows in this condition is due to song_length = 0, and many of it just 1 second more than song_length, which might be due to the technical measurment error, can be ignored. Impute song_length with play_time, if play_time is under 500 seconds."
   ]
  },
  {
   "cell_type": "code",
   "execution_count": 100,
   "metadata": {},
   "outputs": [
    {
     "data": {
      "text/plain": [
       "uid            120649\n",
       "device         120649\n",
       "song_id        120649\n",
       "song_type      120649\n",
       "song_name      120649\n",
       "singer         120649\n",
       "play_time      120649\n",
       "song_length    120649\n",
       "paid_flag      120649\n",
       "file_name      120649\n",
       "dtype: int64"
      ]
     },
     "execution_count": 100,
     "metadata": {},
     "output_type": "execute_result"
    }
   ],
   "source": [
    "play309.loc[play309['play_time']>play309['song_length']*1.05].count()"
   ]
  },
  {
   "cell_type": "markdown",
   "metadata": {},
   "source": [
    "there are 146382-120649 for the technical measurement error."
   ]
  },
  {
   "cell_type": "code",
   "execution_count": 114,
   "metadata": {},
   "outputs": [
    {
     "data": {
      "text/plain": [
       "0    271.0\n",
       "1      NaN\n",
       "2    196.0\n",
       "3    257.0\n",
       "4    116.0\n",
       "Name: song_length, dtype: float64"
      ]
     },
     "execution_count": 114,
     "metadata": {},
     "output_type": "execute_result"
    }
   ],
   "source": [
    "play309['song_length'].fillna(play309['play_time']).head()"
   ]
  },
  {
   "cell_type": "code",
   "execution_count": 115,
   "metadata": {},
   "outputs": [
    {
     "data": {
      "text/plain": [
       "0.0    1171939\n",
       "Name: paid_flag, dtype: int64"
      ]
     },
     "execution_count": 115,
     "metadata": {},
     "output_type": "execute_result"
    }
   ],
   "source": [
    "#Paid_flag\n",
    "play309['paid_flag'].value_counts()"
   ]
  },
  {
   "cell_type": "markdown",
   "metadata": {},
   "source": [
    "Only one value, this column is useless."
   ]
  }
 ],
 "metadata": {
  "kernelspec": {
   "display_name": "Python 3",
   "language": "python",
   "name": "python3"
  },
  "language_info": {
   "codemirror_mode": {
    "name": "ipython",
    "version": 3
   },
   "file_extension": ".py",
   "mimetype": "text/x-python",
   "name": "python",
   "nbconvert_exporter": "python",
   "pygments_lexer": "ipython3",
   "version": "3.6.4"
  }
 },
 "nbformat": 4,
 "nbformat_minor": 2
}
